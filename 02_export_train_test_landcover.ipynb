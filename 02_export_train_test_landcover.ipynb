{
 "cells": [
  {
   "cell_type": "code",
   "execution_count": 6,
   "metadata": {
    "id": "hjLKOjgAOkJ9"
   },
   "outputs": [],
   "source": [
    "import ee\n",
    "import geemap.foliumap as geemap\n",
    "import json\n",
    "import os\n",
    "\n",
    "import geopandas as gpd\n",
    "\n",
    "import pandas as pd\n",
    "import numpy as np\n",
    "\n",
    "import time\n",
    "\n",
    "from math import sqrt"
   ]
  },
  {
   "cell_type": "code",
   "execution_count": 2,
   "metadata": {
    "colab": {
     "base_uri": "https://localhost:8080/"
    },
    "id": "RyLm_3_vOuqG",
    "outputId": "922a68d7-aaec-4b1e-95c8-bdda84ebf87a"
   },
   "outputs": [
    {
     "data": {
      "text/html": [
       "<p>To authorize access needed by Earth Engine, open the following\n",
       "        URL in a web browser and follow the instructions:</p>\n",
       "        <p><a href=https://code.earthengine.google.com/client-auth?scopes=https%3A//www.googleapis.com/auth/earthengine%20https%3A//www.googleapis.com/auth/devstorage.full_control&request_id=IiBlSUxzKcgQ3tkYcgF6J3hjIR1wiGPyEb2F-sp1a_4&tc=-fXFZesROZJcxTzQWbVrsr9s-hf5wn05sCorG7mYMZk&cc=oq1dN3YpTG1kapMgbM2fEgnWO2l6hstRnXMukQJ1eAA>https://code.earthengine.google.com/client-auth?scopes=https%3A//www.googleapis.com/auth/earthengine%20https%3A//www.googleapis.com/auth/devstorage.full_control&request_id=IiBlSUxzKcgQ3tkYcgF6J3hjIR1wiGPyEb2F-sp1a_4&tc=-fXFZesROZJcxTzQWbVrsr9s-hf5wn05sCorG7mYMZk&cc=oq1dN3YpTG1kapMgbM2fEgnWO2l6hstRnXMukQJ1eAA</a></p>\n",
       "        <p>The authorization workflow will generate a code, which you should paste in the box below.</p>\n",
       "        "
      ],
      "text/plain": [
       "<IPython.core.display.HTML object>"
      ]
     },
     "metadata": {},
     "output_type": "display_data"
    },
    {
     "name": "stdin",
     "output_type": "stream",
     "text": [
      "Enter verification code:  4/1AfgeXvsY0iX3mRxFbOsdqnW9rRk1LhVh7obFd42Rk7XAQXPdgKtqa6OWC2Q\n"
     ]
    },
    {
     "name": "stdout",
     "output_type": "stream",
     "text": [
      "\n",
      "Successfully saved authorization token.\n"
     ]
    }
   ],
   "source": [
    "ee.Authenticate()\n",
    "ee.Initialize()"
   ]
  },
  {
   "cell_type": "code",
   "execution_count": 40,
   "metadata": {
    "id": "23Pw4p4mjlrd"
   },
   "outputs": [],
   "source": [
    "def geojson2FeatureCollection(path_file='/content/drive/MyDrive/fundar_deforestacion/ecoregiones/chaco_seco.geojson'):\n",
    "  with open(path_file) as f:\n",
    "    json_data = json.load(f)\n",
    "  return(ee.FeatureCollection(json_data))"
   ]
  },
  {
   "cell_type": "code",
   "execution_count": 41,
   "metadata": {
    "id": "aCSFB2wL-oDl"
   },
   "outputs": [],
   "source": [
    "def scale_factor(image):\n",
    "  return image.expression('float(b(\"NDVI\")*0.0001)') #//the value 0.0001 will be multiplied to all pixels of our ImageCollection"
   ]
  },
  {
   "cell_type": "code",
   "execution_count": 42,
   "metadata": {
    "id": "cABxKqcjrP2_"
   },
   "outputs": [],
   "source": [
    "test =  geojson2FeatureCollection(\"./data/test_data_final.geojson\")"
   ]
  },
  {
   "cell_type": "code",
   "execution_count": 43,
   "metadata": {},
   "outputs": [],
   "source": [
    "#Map = geemap.Map(center=[-26.069635, -62.078842], zoom=5)\n",
    "#Map.addLayer(test)"
   ]
  },
  {
   "cell_type": "code",
   "execution_count": 44,
   "metadata": {},
   "outputs": [],
   "source": [
    "#Map.addLayer(testing)"
   ]
  },
  {
   "cell_type": "code",
   "execution_count": 45,
   "metadata": {},
   "outputs": [],
   "source": [
    "#Map"
   ]
  },
  {
   "cell_type": "code",
   "execution_count": 46,
   "metadata": {
    "id": "WMtBGUUf9MbH"
   },
   "outputs": [],
   "source": [
    "landcover = ee.Image(\"projects/ee-germanrosati/assets/traj_7years_clust_recode\")\n",
    "landcover = landcover.select('b1')"
   ]
  },
  {
   "cell_type": "code",
   "execution_count": 47,
   "metadata": {},
   "outputs": [],
   "source": [
    "testing = landcover.sampleRegions(**{\n",
    "              'collection': test,\n",
    "              #'properties': ['label'],\n",
    "              'scale': 50,\n",
    "              'geometries':True\n",
    "            })\n",
    "\n",
    "task_test = ee.batch.Export.table.toDrive(**{\n",
    "          'collection': training,\n",
    "          'description': 'landcover_test_set',\n",
    "          'folder':'fundar_deforestacion_input',\n",
    "          'fileFormat': 'GeoJSON' })\n",
    "          \n",
    "task_test.start()\n"
   ]
  }
 ],
 "metadata": {
  "colab": {
   "provenance": []
  },
  "kernelspec": {
   "display_name": "Python 3 (ipykernel)",
   "language": "python",
   "name": "python3"
  },
  "language_info": {
   "codemirror_mode": {
    "name": "ipython",
    "version": 3
   },
   "file_extension": ".py",
   "mimetype": "text/x-python",
   "name": "python",
   "nbconvert_exporter": "python",
   "pygments_lexer": "ipython3",
   "version": "3.9.7"
  }
 },
 "nbformat": 4,
 "nbformat_minor": 4
}
