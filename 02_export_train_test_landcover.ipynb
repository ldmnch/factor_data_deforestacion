{
 "cells": [
  {
   "cell_type": "code",
   "execution_count": null,
   "metadata": {
    "id": "hjLKOjgAOkJ9"
   },
   "outputs": [],
   "source": [
    "import ee\n",
    "import json\n",
    "import os\n",
    "\n",
    "import geopandas as gpd\n",
    "\n",
    "import pandas as pd\n",
    "import numpy as np\n",
    "\n",
    "import time\n",
    "\n",
    "from math import sqrt\n",
    "\n",
    "from functions import geojson2FeatureCollection"
   ]
  },
  {
   "cell_type": "code",
   "execution_count": null,
   "metadata": {
    "colab": {
     "base_uri": "https://localhost:8080/"
    },
    "id": "RyLm_3_vOuqG",
    "outputId": "922a68d7-aaec-4b1e-95c8-bdda84ebf87a"
   },
   "outputs": [],
   "source": [
    "ee.Authenticate()\n",
    "ee.Initialize()"
   ]
  },
  {
   "cell_type": "code",
   "execution_count": null,
   "metadata": {
    "id": "cABxKqcjrP2_"
   },
   "outputs": [],
   "source": [
    "test =  geojson2FeatureCollection(\"./data/test_data_final.geojson\")"
   ]
  },
  {
   "cell_type": "code",
   "execution_count": null,
   "metadata": {
    "id": "WMtBGUUf9MbH"
   },
   "outputs": [],
   "source": [
    "landcover = ee.Image(\"projects/ee-germanrosati/assets/traj_7years_clust_recode\")"
    ]
  },
  {
   "cell_type": "code",
   "execution_count": null,
   "metadata": {},
   "outputs": [],
   "source": [
    "testing = landcover.sampleRegions(**{\n",
    "              'collection': test,\n",
    "              'properties': ['label'],\n",
    "              'scale': 50,\n",
    "              'geometries':True\n",
    "            })\n",
    "\n",
    "task_test = ee.batch.Export.table.toDrive(**{\n",
    "          'collection': training,\n",
    "          'description': 'landcover_test_set',\n",
    "          'folder':'fundar_deforestacion_input',\n",
    "          'fileFormat': 'GeoJSON' })\n",
    "          \n",
    "task_test.start()\n"
   ]
  }
 ],
 "metadata": {
  "colab": {
   "provenance": []
  },
  "kernelspec": {
   "display_name": "Python 3 (ipykernel)",
   "language": "python",
   "name": "python3"
  },
  "language_info": {
   "codemirror_mode": {
    "name": "ipython",
    "version": 3
   },
   "file_extension": ".py",
   "mimetype": "text/x-python",
   "name": "python",
   "nbconvert_exporter": "python",
   "pygments_lexer": "ipython3",
   "version": "3.9.7"
  }
 },
 "nbformat": 4,
 "nbformat_minor": 4
}
