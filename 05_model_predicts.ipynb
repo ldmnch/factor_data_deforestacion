{
 "cells": [
  {
   "cell_type": "code",
   "execution_count": 1,
   "metadata": {},
   "outputs": [],
   "source": [
    "from sklearn.metrics import classification_report\n",
    "from sklearn.pipeline import Pipeline\n",
    "from sklearn.model_selection import GridSearchCV, KFold\n",
    "from joblib import dump, load\n",
    "import geopandas as gpd\n",
    "import xgboost as xgb\n",
    "import numpy as np\n",
    "import pandas as pd"
   ]
  },
  {
   "cell_type": "code",
   "execution_count": 2,
   "metadata": {},
   "outputs": [
    {
     "name": "stderr",
     "output_type": "stream",
     "text": [
      "/home/laia/anaconda3/lib/python3.9/site-packages/sklearn/base.py:329: UserWarning: Trying to unpickle estimator StandardScaler from version 1.1.2 when using version 1.0.2. This might lead to breaking code or invalid results. Use at your own risk. For more info please refer to:\n",
      "https://scikit-learn.org/stable/modules/model_persistence.html#security-maintainability-limitations\n",
      "  warnings.warn(\n",
      "/home/laia/anaconda3/lib/python3.9/site-packages/sklearn/base.py:329: UserWarning: Trying to unpickle estimator Pipeline from version 1.1.2 when using version 1.0.2. This might lead to breaking code or invalid results. Use at your own risk. For more info please refer to:\n",
      "https://scikit-learn.org/stable/modules/model_persistence.html#security-maintainability-limitations\n",
      "  warnings.warn(\n",
      "/home/laia/anaconda3/lib/python3.9/site-packages/sklearn/base.py:329: UserWarning: Trying to unpickle estimator GridSearchCV from version 1.1.2 when using version 1.0.2. This might lead to breaking code or invalid results. Use at your own risk. For more info please refer to:\n",
      "https://scikit-learn.org/stable/modules/model_persistence.html#security-maintainability-limitations\n",
      "  warnings.warn(\n"
     ]
    }
   ],
   "source": [
    "pipe_rf = load('./models/cv_rf.joblib') \n",
    "pipe_lr = load('./models/cv_lr.joblib') \n",
    "pipe_xgb = load('./models/cv_xgb.joblib') "
   ]
  },
  {
   "cell_type": "code",
   "execution_count": 3,
   "metadata": {},
   "outputs": [],
   "source": [
    "train = gpd.read_file( \"./data/train_data_final.geojson\")\n",
    "test =  gpd.read_file(\"./data/train_data_final.geojson\")"
   ]
  },
  {
   "cell_type": "code",
   "execution_count": 4,
   "metadata": {},
   "outputs": [],
   "source": [
    "X = train.loc[:,'NDVI_2000':'NDVI_2019']\n",
    "y = train['label.x']\n",
    "X_test = test.loc[:,'NDVI_2000':'NDVI_2019']"
   ]
  },
  {
   "cell_type": "code",
   "execution_count": null,
   "metadata": {},
   "outputs": [],
   "source": [
    "best_model_rf = pipe_rf.best_estimator_\n",
    "best_model_lr = pipe_lr.best_estimator_\n",
    "best_model_xgb = pipe_xgb.best_estimator_"
   ]
  },
  {
   "cell_type": "code",
   "execution_count": null,
   "metadata": {},
   "outputs": [
    {
     "name": "stdout",
     "output_type": "stream",
     "text": [
      "Classification report de RF\n",
      "              precision    recall  f1-score   support\n",
      "\n",
      "           0       0.67      0.55      0.61       877\n",
      "           1       0.97      0.98      0.97      4964\n",
      "           2       0.69      0.77      0.72       859\n",
      "\n",
      "    accuracy                           0.90      6700\n",
      "   macro avg       0.78      0.77      0.77      6700\n",
      "weighted avg       0.89      0.90      0.89      6700\n",
      "\n",
      "\n",
      "\n"
     ]
    }
   ],
   "source": [
    "print(\"Classification report de RF\")\n",
    "print(classification_report(test.label_0,best_model_rf.predict(X_test)))\n",
    "print(\"\\n\")\n",
    "print(\"Classification report de reg logística\")\n",
    "print(classification_report(test.label_0,best_model_lr.predict(X_test)))\n",
    "print(\"\\n\")\n",
    "print(\"Classification report de XGBoost\")\n",
    "print(classification_report(test.label_0,best_model_xgb.predict(X_test)))\n",
    "print(\"\\n\")"
   ]
  },
  {
   "cell_type": "code",
   "execution_count": null,
   "metadata": {},
   "outputs": [],
   "source": [
    "test['predictions_rf'] = best_model_rf.predict(X_test)\n",
    "test['predictions_lr'] = best_model_lr.predict(X_test)\n",
    "test['predictions_xgb'] = best_model_xgb.predict(X_test)"
   ]
  },
  {
   "cell_type": "code",
   "execution_count": null,
   "metadata": {},
   "outputs": [
    {
     "name": "stderr",
     "output_type": "stream",
     "text": [
      "/tmp/ipykernel_15275/3032649008.py:3: UserWarning: Column names longer than 10 characters will be truncated when saved to ESRI Shapefile.\n",
      "  test.to_file(\"data/preds/test_predictions_rf_new.shp\")\n"
     ]
    }
   ],
   "source": [
    "#test.to_file(\"data/test_predictions.geojson\", driver='GeoJSON')\n",
    "#Para GEE en .shp\n",
    "test.to_file(\"data/preds/test_predictions.shp\")\n"
   ]
  },
  {
   "cell_type": "code",
   "execution_count": 21,
   "metadata": {},
   "outputs": [],
   "source": [
    "def exporto_clasif(modelo, nombre):\n",
    "    report_data = classification_report(test.label_0,modelo.predict(X_test), output_dict=True)\n",
    "    dataframe = pd.DataFrame.from_dict(report_data).reset_index()\n",
    "    dataframe = dataframe.rename(columns={\"index\": \"metric\"})\n",
    "    \n",
    "    dataframe.to_csv('data/preds/classification_report_'+nombre+'.csv', index = False)"
   ]
  },
  {
   "cell_type": "code",
   "execution_count": 22,
   "metadata": {},
   "outputs": [],
   "source": [
    "exporto_clasif(best_model_rf, 'random_forest')\n",
    "exporto_clasif(best_model_lr, 'reg_log')\n",
    "exporto_clasif(best_model_xgb, 'xgb')"
   ]
  }
 ],
 "metadata": {
  "kernelspec": {
   "display_name": "Python 3 (ipykernel)",
   "language": "python",
   "name": "python3"
  },
  "language_info": {
   "codemirror_mode": {
    "name": "ipython",
    "version": 3
   },
   "file_extension": ".py",
   "mimetype": "text/x-python",
   "name": "python",
   "nbconvert_exporter": "python",
   "pygments_lexer": "ipython3",
   "version": "3.9.7"
  }
 },
 "nbformat": 4,
 "nbformat_minor": 4
}
