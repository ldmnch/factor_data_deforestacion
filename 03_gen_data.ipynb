{
 "cells": [
  {
   "cell_type": "code",
   "execution_count": 51,
   "id": "bd975eb9-af16-4e03-a65f-55bf1ac9c824",
   "metadata": {},
   "outputs": [],
   "source": [
    "from functions import generate_train_test"
   ]
  },
  {
   "cell_type": "code",
   "execution_count": 53,
   "id": "e5667d2a-c861-4ce2-86d4-370a8cd19c91",
   "metadata": {},
   "outputs": [
    {
     "name": "stdout",
     "output_type": "stream",
     "text": [
      "train\n",
      "test\n"
     ]
    }
   ],
   "source": [
    "generate_train_test()"
   ]
  }
 ],
 "metadata": {
  "kernelspec": {
   "display_name": "Python 3 (ipykernel)",
   "language": "python",
   "name": "python3"
  },
  "language_info": {
   "codemirror_mode": {
    "name": "ipython",
    "version": 3
   },
   "file_extension": ".py",
   "mimetype": "text/x-python",
   "name": "python",
   "nbconvert_exporter": "python",
   "pygments_lexer": "ipython3",
   "version": "3.9.7"
  }
 },
 "nbformat": 4,
 "nbformat_minor": 5
}
