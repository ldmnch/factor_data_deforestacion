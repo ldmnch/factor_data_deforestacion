{
 "cells": [
  {
   "cell_type": "code",
   "execution_count": 1,
   "metadata": {},
   "outputs": [],
   "source": [
    "from sklearn.ensemble import RandomForestClassifier\n",
    "from sklearn.metrics import classification_report\n",
    "from sklearn.pipeline import Pipeline\n",
    "from sklearn.model_selection import GridSearchCV, KFold\n",
    "from joblib import dump, load\n",
    "import geopandas as gpd\n",
    "\n",
    "import numpy as np"
   ]
  },
  {
   "cell_type": "code",
   "execution_count": 2,
   "metadata": {},
   "outputs": [],
   "source": [
    "pipe = load('./models/cv_rf_2.joblib') "
   ]
  },
  {
   "cell_type": "code",
   "execution_count": 5,
   "metadata": {},
   "outputs": [],
   "source": [
    "train = gpd.read_file( \"./data/train_data_final.geojson\")\n",
    "test =  gpd.read_file(\"./data/test_data_final.geojson\")"
   ]
  },
  {
   "cell_type": "code",
   "execution_count": 6,
   "metadata": {},
   "outputs": [],
   "source": [
    "X = train.loc[:,'NDVI_2000':'NDVI_2019']\n",
    "y = train['label_0']\n",
    "X_test = test.loc[:,'NDVI_2000':'NDVI_2019']"
   ]
  },
  {
   "cell_type": "code",
   "execution_count": 3,
   "metadata": {},
   "outputs": [
    {
     "data": {
      "text/plain": [
       "GridSearchCV(cv=KFold(n_splits=5, random_state=123, shuffle=True),\n",
       "             estimator=Pipeline(steps=[('rf', RandomForestClassifier())]),\n",
       "             n_jobs=16,\n",
       "             param_grid={'rf__max_depth': [1, 10, 25, 30, 50, 75],\n",
       "                         'rf__max_features': array([ 1,  2,  3,  4,  5,  6,  7,  8,  9, 10, 11, 12, 13, 14, 15, 16, 17,\n",
       "       18, 19], dtype=int32),\n",
       "                         'rf__n_estimators': [100, 200, 300, 400, 500]},\n",
       "             scoring='f1_macro', verbose=1)"
      ]
     },
     "execution_count": 3,
     "metadata": {},
     "output_type": "execute_result"
    }
   ],
   "source": [
    "pipe"
   ]
  },
  {
   "cell_type": "code",
   "execution_count": 12,
   "metadata": {},
   "outputs": [],
   "source": [
    "best_model = pipe.best_estimator_"
   ]
  },
  {
   "cell_type": "code",
   "execution_count": 14,
   "metadata": {},
   "outputs": [
    {
     "name": "stdout",
     "output_type": "stream",
     "text": [
      "              precision    recall  f1-score   support\n",
      "\n",
      "           0       0.72      0.59      0.65       877\n",
      "           1       0.87      0.90      0.89       900\n",
      "           2       0.70      0.81      0.75       859\n",
      "\n",
      "    accuracy                           0.77      2636\n",
      "   macro avg       0.76      0.77      0.76      2636\n",
      "weighted avg       0.77      0.77      0.76      2636\n",
      "\n"
     ]
    }
   ],
   "source": [
    "print(classification_report(test.label_0,best_model.predict(X_test)))\n"
   ]
  }
 ],
 "metadata": {
  "kernelspec": {
   "display_name": "Python 3 (ipykernel)",
   "language": "python",
   "name": "python3"
  },
  "language_info": {
   "codemirror_mode": {
    "name": "ipython",
    "version": 3
   },
   "file_extension": ".py",
   "mimetype": "text/x-python",
   "name": "python",
   "nbconvert_exporter": "python",
   "pygments_lexer": "ipython3",
   "version": "3.9.7"
  }
 },
 "nbformat": 4,
 "nbformat_minor": 4
}
