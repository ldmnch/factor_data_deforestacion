{
  "nbformat": 4,
  "nbformat_minor": 0,
  "metadata": {
    "colab": {
      "provenance": [],
      "collapsed_sections": []
    },
    "kernelspec": {
      "name": "python3",
      "display_name": "Python 3"
    },
    "language_info": {
      "name": "python"
    }
  },
  "cells": [
    {
      "cell_type": "code",
      "source": [
        "!pip install geopandas"
      ],
      "metadata": {
        "colab": {
          "base_uri": "https://localhost:8080/"
        },
        "id": "bthDLIVGzmBx",
        "outputId": "bcbe8de2-eae8-4801-b549-c3ba7c607728"
      },
      "execution_count": null,
      "outputs": [
        {
          "output_type": "stream",
          "name": "stdout",
          "text": [
            "Looking in indexes: https://pypi.org/simple, https://us-python.pkg.dev/colab-wheels/public/simple/\n",
            "Collecting geopandas\n",
            "  Downloading geopandas-0.10.2-py2.py3-none-any.whl (1.0 MB)\n",
            "\u001b[K     |████████████████████████████████| 1.0 MB 4.2 MB/s \n",
            "\u001b[?25hCollecting fiona>=1.8\n",
            "  Downloading Fiona-1.8.22-cp37-cp37m-manylinux2014_x86_64.whl (16.7 MB)\n",
            "\u001b[K     |████████████████████████████████| 16.7 MB 28.2 MB/s \n",
            "\u001b[?25hRequirement already satisfied: pandas>=0.25.0 in /usr/local/lib/python3.7/dist-packages (from geopandas) (1.3.5)\n",
            "Collecting pyproj>=2.2.0\n",
            "  Downloading pyproj-3.2.1-cp37-cp37m-manylinux2010_x86_64.whl (6.3 MB)\n",
            "\u001b[K     |████████████████████████████████| 6.3 MB 36.1 MB/s \n",
            "\u001b[?25hRequirement already satisfied: shapely>=1.6 in /usr/local/lib/python3.7/dist-packages (from geopandas) (1.8.5.post1)\n",
            "Requirement already satisfied: six>=1.7 in /usr/local/lib/python3.7/dist-packages (from fiona>=1.8->geopandas) (1.15.0)\n",
            "Collecting munch\n",
            "  Downloading munch-2.5.0-py2.py3-none-any.whl (10 kB)\n",
            "Requirement already satisfied: attrs>=17 in /usr/local/lib/python3.7/dist-packages (from fiona>=1.8->geopandas) (22.1.0)\n",
            "Requirement already satisfied: certifi in /usr/local/lib/python3.7/dist-packages (from fiona>=1.8->geopandas) (2022.9.24)\n",
            "Collecting click-plugins>=1.0\n",
            "  Downloading click_plugins-1.1.1-py2.py3-none-any.whl (7.5 kB)\n",
            "Requirement already satisfied: click>=4.0 in /usr/local/lib/python3.7/dist-packages (from fiona>=1.8->geopandas) (7.1.2)\n",
            "Collecting cligj>=0.5\n",
            "  Downloading cligj-0.7.2-py3-none-any.whl (7.1 kB)\n",
            "Requirement already satisfied: setuptools in /usr/local/lib/python3.7/dist-packages (from fiona>=1.8->geopandas) (57.4.0)\n",
            "Requirement already satisfied: pytz>=2017.3 in /usr/local/lib/python3.7/dist-packages (from pandas>=0.25.0->geopandas) (2022.6)\n",
            "Requirement already satisfied: numpy>=1.17.3 in /usr/local/lib/python3.7/dist-packages (from pandas>=0.25.0->geopandas) (1.21.6)\n",
            "Requirement already satisfied: python-dateutil>=2.7.3 in /usr/local/lib/python3.7/dist-packages (from pandas>=0.25.0->geopandas) (2.8.2)\n",
            "Installing collected packages: munch, cligj, click-plugins, pyproj, fiona, geopandas\n",
            "Successfully installed click-plugins-1.1.1 cligj-0.7.2 fiona-1.8.22 geopandas-0.10.2 munch-2.5.0 pyproj-3.2.1\n"
          ]
        }
      ]
    },
    {
      "cell_type": "code",
      "execution_count": null,
      "metadata": {
        "id": "_xKTfvpIzf8g"
      },
      "outputs": [],
      "source": [
        "from sklearn.ensemble import RandomForestClassifier\n",
        "from sklearn.metrics import classification_report\n",
        "from sklearn.pipeline import Pipeline\n",
        "from sklearn.model_selection import GridSearchCV\n",
        "\n",
        "import geopandas as gpd\n",
        "from google.colab import drive\n",
        "\n",
        "import numpy as np"
      ]
    },
    {
      "cell_type": "code",
      "source": [
        "drive.mount('/content/drive', force_remount=True)"
      ],
      "metadata": {
        "colab": {
          "base_uri": "https://localhost:8080/"
        },
        "id": "neALge6Lzsxu",
        "outputId": "d66f8b4b-220a-48de-e282-2bcadcc064f1"
      },
      "execution_count": null,
      "outputs": [
        {
          "output_type": "stream",
          "name": "stdout",
          "text": [
            "Mounted at /content/drive\n"
          ]
        }
      ]
    },
    {
      "cell_type": "code",
      "source": [
        "train = gpd.read_file( \"/content/drive/MyDrive/fundar_deforestacion_input/train_data_final.geojson\")\n",
        "test =  gpd.read_file(\"/content/drive/MyDrive/fundar_deforestacion_input/test_data_final.geojson\")"
      ],
      "metadata": {
        "id": "zfN_yTy1z7Q8"
      },
      "execution_count": null,
      "outputs": []
    },
    {
      "cell_type": "code",
      "source": [
        "X = train.loc[:,'NDVI_2000':'NDVI_2019']\n",
        "y = train['label_0']\n",
        "X_test = test.loc[:,'NDVI_2000':'NDVI_2019']"
      ],
      "metadata": {
        "id": "7ooSD3Dk0yOY"
      },
      "execution_count": null,
      "outputs": []
    },
    {
      "cell_type": "code",
      "source": [
        "clf=RandomForestClassifier(max_depth = 15)\n",
        "clf.fit(X,y)"
      ],
      "metadata": {
        "id": "LN8JIrth0vxI",
        "colab": {
          "base_uri": "https://localhost:8080/"
        },
        "outputId": "efecfd47-c79f-4aef-d4ee-64a9e0fdc84e"
      },
      "execution_count": null,
      "outputs": [
        {
          "output_type": "execute_result",
          "data": {
            "text/plain": [
              "RandomForestClassifier(max_depth=15)"
            ]
          },
          "metadata": {},
          "execution_count": 6
        }
      ]
    },
    {
      "cell_type": "code",
      "source": [
        "test['pred']=clf.predict(X_test)"
      ],
      "metadata": {
        "id": "to1gL1w_LD8y"
      },
      "execution_count": null,
      "outputs": []
    },
    {
      "cell_type": "code",
      "source": [
        "train['label_0'].value_counts()"
      ],
      "metadata": {
        "colab": {
          "base_uri": "https://localhost:8080/"
        },
        "id": "QHTQeTORreIU",
        "outputId": "14e83a1e-7599-4534-9596-d8b276bc7dbb"
      },
      "execution_count": null,
      "outputs": [
        {
          "output_type": "execute_result",
          "data": {
            "text/plain": [
              "1    2100\n",
              "0    2048\n",
              "2    1978\n",
              "Name: label_0, dtype: int64"
            ]
          },
          "metadata": {},
          "execution_count": 8
        }
      ]
    },
    {
      "cell_type": "code",
      "source": [
        "print(classification_report(test.label_0, test.pred, target_names=['no deforestado', 'deforestado', 'no deforestado (shrubland)']))\n"
      ],
      "metadata": {
        "colab": {
          "base_uri": "https://localhost:8080/"
        },
        "id": "rAamOsqPLOMO",
        "outputId": "39923639-0c22-4524-bb4f-a137c5ab8aca"
      },
      "execution_count": null,
      "outputs": [
        {
          "output_type": "stream",
          "name": "stdout",
          "text": [
            "                            precision    recall  f1-score   support\n",
            "\n",
            "            no deforestado       0.70      0.58      0.63       877\n",
            "               deforestado       0.86      0.89      0.87       900\n",
            "no deforestado (shrubland)       0.71      0.79      0.75       859\n",
            "\n",
            "                  accuracy                           0.76      2636\n",
            "                 macro avg       0.75      0.76      0.75      2636\n",
            "              weighted avg       0.75      0.76      0.75      2636\n",
            "\n"
          ]
        }
      ]
    },
    {
      "cell_type": "code",
      "source": [
        "#test.plot(c = test.label_0)"
      ],
      "metadata": {
        "id": "U_gD_lmxN7nS"
      },
      "execution_count": null,
      "outputs": []
    },
    {
      "cell_type": "code",
      "source": [
        "#test.plot(c = test.pred)"
      ],
      "metadata": {
        "id": "__Dke3q7NjX4"
      },
      "execution_count": null,
      "outputs": []
    },
    {
      "cell_type": "code",
      "source": [
        "pipe = Pipeline([('clf', RandomForestClassifier())])"
      ],
      "metadata": {
        "id": "0w-EDL3x5Kv5"
      },
      "execution_count": null,
      "outputs": []
    },
    {
      "cell_type": "code",
      "source": [
        "parameters = {'clf__n_estimators':[100, 500, 1000],\n",
        "              'clf__max_depth':[15, 50, 100, 500, 1000],\n",
        "              'clf__ccp_alpha':np.arange(0, 1, 0.05)}\n",
        "pipe = GridSearchCV(pipe, parameters)"
      ],
      "metadata": {
        "id": "9KrllZD985eq"
      },
      "execution_count": null,
      "outputs": []
    },
    {
      "cell_type": "code",
      "source": [
        "pipe.fit(X, y)"
      ],
      "metadata": {
        "colab": {
          "base_uri": "https://localhost:8080/"
        },
        "id": "amgTj_Im5vJa",
        "outputId": "f2b94fe5-cadd-4e41-f7f3-20fc2db75db1"
      },
      "execution_count": null,
      "outputs": [
        {
          "output_type": "execute_result",
          "data": {
            "text/plain": [
              "GridSearchCV(estimator=Pipeline(steps=[('clf', RandomForestClassifier())]),\n",
              "             param_grid={'clf__ccp_alpha': array([0.  , 0.05, 0.1 , 0.15, 0.2 , 0.25, 0.3 , 0.35, 0.4 , 0.45, 0.5 ,\n",
              "       0.55, 0.6 , 0.65, 0.7 , 0.75, 0.8 , 0.85, 0.9 , 0.95]),\n",
              "                         'clf__max_depth': [15, 50, 100, 500, 1000],\n",
              "                         'clf__n_estimators': [100, 500, 1000]})"
            ]
          },
          "metadata": {},
          "execution_count": 33
        }
      ]
    },
    {
      "cell_type": "code",
      "source": [
        "pipe.cv_results_"
      ],
      "metadata": {
        "colab": {
          "base_uri": "https://localhost:8080/"
        },
        "id": "yag_z0nQ_MMZ",
        "outputId": "9c96de23-6dd3-4f08-b25e-d5d209f381ad"
      },
      "execution_count": null,
      "outputs": [
        {
          "output_type": "execute_result",
          "data": {
            "text/plain": [
              "{'mean_fit_time': array([ 0.7779232 ,  4.02555714,  7.54223747,  1.50491743,  7.7458015 ,\n",
              "        15.07477078,  1.57552371,  7.89329867, 16.01299052,  1.57999578,\n",
              "         7.92223272, 15.85303273]),\n",
              " 'std_fit_time': array([0.01348061, 0.52247362, 0.02079901, 0.01071825, 0.46244831,\n",
              "        0.02386411, 0.00604848, 0.04178084, 0.49764001, 0.00704673,\n",
              "        0.02843248, 0.10021015]),\n",
              " 'mean_score_time': array([0.02533889, 0.11431689, 0.22570238, 0.0389461 , 0.18497791,\n",
              "        0.36822639, 0.04362059, 0.19447141, 0.39173203, 0.04280834,\n",
              "        0.19937696, 0.39385629]),\n",
              " 'std_score_time': array([0.00071879, 0.00118955, 0.00409441, 0.00124603, 0.00363609,\n",
              "        0.00561101, 0.0040631 , 0.00439661, 0.00877598, 0.00268876,\n",
              "        0.00691617, 0.00609279]),\n",
              " 'param_clf__max_depth': masked_array(data=[5, 5, 5, 15, 15, 15, 50, 50, 50, 100, 100, 100],\n",
              "              mask=[False, False, False, False, False, False, False, False,\n",
              "                    False, False, False, False],\n",
              "        fill_value='?',\n",
              "             dtype=object),\n",
              " 'param_clf__n_estimators': masked_array(data=[100, 500, 1000, 100, 500, 1000, 100, 500, 1000, 100,\n",
              "                    500, 1000],\n",
              "              mask=[False, False, False, False, False, False, False, False,\n",
              "                    False, False, False, False],\n",
              "        fill_value='?',\n",
              "             dtype=object),\n",
              " 'params': [{'clf__max_depth': 5, 'clf__n_estimators': 100},\n",
              "  {'clf__max_depth': 5, 'clf__n_estimators': 500},\n",
              "  {'clf__max_depth': 5, 'clf__n_estimators': 1000},\n",
              "  {'clf__max_depth': 15, 'clf__n_estimators': 100},\n",
              "  {'clf__max_depth': 15, 'clf__n_estimators': 500},\n",
              "  {'clf__max_depth': 15, 'clf__n_estimators': 1000},\n",
              "  {'clf__max_depth': 50, 'clf__n_estimators': 100},\n",
              "  {'clf__max_depth': 50, 'clf__n_estimators': 500},\n",
              "  {'clf__max_depth': 50, 'clf__n_estimators': 1000},\n",
              "  {'clf__max_depth': 100, 'clf__n_estimators': 100},\n",
              "  {'clf__max_depth': 100, 'clf__n_estimators': 500},\n",
              "  {'clf__max_depth': 100, 'clf__n_estimators': 1000}],\n",
              " 'split0_test_score': array([0.65089723, 0.65579119, 0.66231648, 0.74714519, 0.75122349,\n",
              "        0.75774878, 0.75774878, 0.76427406, 0.75774878, 0.75448613,\n",
              "        0.76019576, 0.75530179]),\n",
              " 'split1_test_score': array([0.67673469, 0.68163265, 0.66530612, 0.76081633, 0.76489796,\n",
              "        0.76734694, 0.75836735, 0.7722449 , 0.76734694, 0.75428571,\n",
              "        0.76734694, 0.76408163]),\n",
              " 'split2_test_score': array([0.65632653, 0.65877551, 0.66204082, 0.73877551, 0.75102041,\n",
              "        0.74530612, 0.75102041, 0.7477551 , 0.74693878, 0.74367347,\n",
              "        0.74612245, 0.75020408]),\n",
              " 'split3_test_score': array([0.66612245, 0.66938776, 0.67020408, 0.75346939, 0.74204082,\n",
              "        0.74693878, 0.74612245, 0.75102041, 0.75346939, 0.74857143,\n",
              "        0.74938776, 0.75510204]),\n",
              " 'split4_test_score': array([0.64081633, 0.64571429, 0.64571429, 0.73714286, 0.74204082,\n",
              "        0.73632653, 0.73714286, 0.73795918, 0.74693878, 0.7322449 ,\n",
              "        0.73877551, 0.74285714]),\n",
              " 'mean_test_score': array([0.65817945, 0.66226028, 0.66111636, 0.74746985, 0.7502447 ,\n",
              "        0.75073343, 0.75008037, 0.75465073, 0.75448853, 0.74665233,\n",
              "        0.75236568, 0.75350934]),\n",
              " 'std_test_score': array([0.01237199, 0.01227886, 0.00824208, 0.00890468, 0.00837717,\n",
              "        0.01073906, 0.00789185, 0.01217785, 0.00762895, 0.00824339,\n",
              "        0.01018123, 0.00695582]),\n",
              " 'rank_test_score': array([12, 10, 11,  8,  6,  5,  7,  1,  2,  9,  4,  3], dtype=int32)}"
            ]
          },
          "metadata": {},
          "execution_count": 24
        }
      ]
    },
    {
      "cell_type": "code",
      "source": [
        "pipe.best_estimator_"
      ],
      "metadata": {
        "colab": {
          "base_uri": "https://localhost:8080/"
        },
        "id": "8QSIgU821vsP",
        "outputId": "30afcf05-f778-4406-f270-b2f0e899128a"
      },
      "execution_count": null,
      "outputs": [
        {
          "output_type": "execute_result",
          "data": {
            "text/plain": [
              "Pipeline(steps=[('clf',\n",
              "                 RandomForestClassifier(max_depth=50, n_estimators=500))])"
            ]
          },
          "metadata": {},
          "execution_count": 25
        }
      ]
    },
    {
      "cell_type": "code",
      "source": [
        "pipe.best_params_"
      ],
      "metadata": {
        "colab": {
          "base_uri": "https://localhost:8080/"
        },
        "id": "D4KkuusE1yZN",
        "outputId": "38aead74-7b0b-4219-df3f-863e87efb94f"
      },
      "execution_count": null,
      "outputs": [
        {
          "output_type": "execute_result",
          "data": {
            "text/plain": [
              "{'clf__max_depth': 50, 'clf__n_estimators': 500}"
            ]
          },
          "metadata": {},
          "execution_count": 26
        }
      ]
    },
    {
      "cell_type": "code",
      "source": [
        "pipe.best_score_"
      ],
      "metadata": {
        "colab": {
          "base_uri": "https://localhost:8080/"
        },
        "id": "-7BZk8qFA_S8",
        "outputId": "580f2fe4-674c-4c11-bb27-b045ba583d78"
      },
      "execution_count": null,
      "outputs": [
        {
          "output_type": "execute_result",
          "data": {
            "text/plain": [
              "0.7546507307653894"
            ]
          },
          "metadata": {},
          "execution_count": 29
        }
      ]
    },
    {
      "cell_type": "code",
      "source": [
        "pipe.score(X_test, test.label_0)"
      ],
      "metadata": {
        "colab": {
          "base_uri": "https://localhost:8080/"
        },
        "id": "d9oJEXgX5z6u",
        "outputId": "5deb45e2-0f0a-482e-9c98-fde6de26da2b"
      },
      "execution_count": null,
      "outputs": [
        {
          "output_type": "execute_result",
          "data": {
            "text/plain": [
              "0.7268588770864947"
            ]
          },
          "metadata": {},
          "execution_count": 14
        }
      ]
    },
    {
      "cell_type": "code",
      "source": [
        "test.to_file(\"/content/drive/MyDrive/fundar_deforestacion/data/predictions_sklearn.geojson\")\n"
      ],
      "metadata": {
        "id": "PS1YiHdKRVV2"
      },
      "execution_count": null,
      "outputs": []
    }
  ]
}