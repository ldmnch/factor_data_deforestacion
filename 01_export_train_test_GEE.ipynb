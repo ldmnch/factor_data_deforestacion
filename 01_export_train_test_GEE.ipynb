{
 "cells": [
  {
   "cell_type": "code",
   "execution_count": 11,
   "metadata": {
    "id": "hjLKOjgAOkJ9"
   },
   "outputs": [],
   "source": [
    "import ee\n",
    "import geemap.foliumap as geemap\n",
    "import json\n",
    "import os\n",
    "\n",
    "import pandas as pd\n",
    "from sklearn import ensemble\n",
    "import numpy as np\n",
    "\n",
    "import time\n",
    "\n",
    "from math import sqrt\n",
    "\n",
    "from functions import geojson2FeatureCollection, exporto_modis_train_test"
   ]
  },
  {
   "cell_type": "code",
   "execution_count": null,
   "metadata": {
    "colab": {
     "base_uri": "https://localhost:8080/"
    },
    "id": "RyLm_3_vOuqG",
    "outputId": "922a68d7-aaec-4b1e-95c8-bdda84ebf87a"
   },
   "outputs": [
    {
     "data": {
      "text/html": [
       "<p>To authorize access needed by Earth Engine, open the following\n",
       "        URL in a web browser and follow the instructions:</p>\n",
       "        <p><a href=https://code.earthengine.google.com/client-auth?scopes=https%3A//www.googleapis.com/auth/earthengine%20https%3A//www.googleapis.com/auth/devstorage.full_control&request_id=b_K2qorcwqclgxzvOw7n_d48kpeRy0k4ci451im3piY&tc=tCuMKoJjIYoiSivDHogozD4SP-wGI30eyNFOUAHBgOU&cc=Ssb4nsCd6tUVQ4a7hTXK8pItHXSKkYtlgMLXre9H7w8>https://code.earthengine.google.com/client-auth?scopes=https%3A//www.googleapis.com/auth/earthengine%20https%3A//www.googleapis.com/auth/devstorage.full_control&request_id=b_K2qorcwqclgxzvOw7n_d48kpeRy0k4ci451im3piY&tc=tCuMKoJjIYoiSivDHogozD4SP-wGI30eyNFOUAHBgOU&cc=Ssb4nsCd6tUVQ4a7hTXK8pItHXSKkYtlgMLXre9H7w8</a></p>\n",
       "        <p>The authorization workflow will generate a code, which you should paste in the box below.</p>\n",
       "        "
      ],
      "text/plain": [
       "<IPython.core.display.HTML object>"
      ]
     },
     "metadata": {},
     "output_type": "display_data"
    },
    {
     "name": "stdin",
     "output_type": "stream",
     "text": [
      "Enter verification code:  4/1AWtgzh4t7nB3CYVzuIU4orDG8LVqmm4TBrGgTrmMy0g0kxyS2Q3r5XNIj_E\n"
     ]
    },
    {
     "name": "stdout",
     "output_type": "stream",
     "text": [
      "\n",
      "Successfully saved authorization token.\n"
     ]
    }
   ],
   "source": [
    "ee.Authenticate()\n",
    "ee.Initialize()"
   ]
  },
  {
   "cell_type": "code",
   "execution_count": null,
   "metadata": {
    "colab": {
     "base_uri": "https://localhost:8080/"
    },
    "id": "0islVGdAOwMG",
    "outputId": "bca72920-658a-4dd8-9d1f-b9d0af37d99b"
   },
   "outputs": [],
   "source": [
    "drive.mount('/content/drive', force_remount=True)"
   ]
  },
  {
   "cell_type": "code",
   "execution_count": null,
   "metadata": {
    "id": "cABxKqcjrP2_"
   },
   "outputs": [],
   "source": [
    "train_set = geojson2FeatureCollection('./data/training_data.geojson')\n",
    "test_set = geojson2FeatureCollection('./data/test_data.geojson')"
   ]
  },
  {
   "cell_type": "code",
   "execution_count": null,
   "metadata": {
    "id": "I06XEImoPScb"
   },
   "outputs": [],
   "source": [
    "modis = ee.ImageCollection(\"MODIS/MOD09GA_006_NDVI\")\n",
    "region =  ee.FeatureCollection('projects/ee-ldb-deforestacion-montes/assets/Chaco_Seco')"
   ]
  },
  {
   "cell_type": "code",
   "execution_count": null,
   "metadata": {
    "id": "WMtBGUUf9MbH"
   },
   "outputs": [],
   "source": [
    "landcover = ee.Image(\"projects/ee-germanrosati/assets/traj_7years_clust_recode\")"
   ]
  },
  {
   "cell_type": "code",
   "execution_count": null,
   "metadata": {
    "colab": {
     "base_uri": "https://localhost:8080/"
    },
    "id": "UKlY7RUYvqYq",
    "outputId": "8e37a588-a49b-4da7-a2da-d4bb282b4341"
   },
   "outputs": [],
   "source": [
    "for i in [0, 3, 4, 7, 10, 13, 16, 18]:\n",
    "    \n",
    "    exporto_modis_train_test(region,\n",
    "                tipo_ndvi = \"anual\",\n",
    "                rango_anios = range(i, i+3, 1),\n",
    "                file_sufix = str(i)+\"-\"+str(i+2))"
   ]
  }
 ],
 "metadata": {
  "colab": {
   "provenance": []
  },
  "kernelspec": {
   "display_name": "Python 3 (ipykernel)",
   "language": "python",
   "name": "python3"
  },
  "language_info": {
   "codemirror_mode": {
    "name": "ipython",
    "version": 3
   },
   "file_extension": ".py",
   "mimetype": "text/x-python",
   "name": "python",
   "nbconvert_exporter": "python",
   "pygments_lexer": "ipython3",
   "version": "3.9.7"
  }
 },
 "nbformat": 4,
 "nbformat_minor": 4
}
