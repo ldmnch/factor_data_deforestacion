{
 "cells": [
  {
   "cell_type": "code",
   "execution_count": null,
   "metadata": {
    "id": "hjLKOjgAOkJ9"
   },
   "outputs": [],
   "source": [
    "import ee\n",
    "import geemap.foliumap as geemap\n",
    "from google.colab import drive\n",
    "import json\n",
    "import os\n",
    "\n",
    "import pandas as pd\n",
    "from sklearn import ensemble\n",
    "import numpy as np\n",
    "\n",
    "import time\n",
    "\n",
    "from math import sqrt"
   ]
  },
  {
   "cell_type": "code",
   "execution_count": null,
   "metadata": {
    "colab": {
     "base_uri": "https://localhost:8080/"
    },
    "id": "RyLm_3_vOuqG",
    "outputId": "922a68d7-aaec-4b1e-95c8-bdda84ebf87a"
   },
   "outputs": [],
   "source": [
    "ee.Authenticate()\n",
    "ee.Initialize()"
   ]
  },
  {
   "cell_type": "code",
   "execution_count": null,
   "metadata": {
    "colab": {
     "base_uri": "https://localhost:8080/"
    },
    "id": "0islVGdAOwMG",
    "outputId": "bca72920-658a-4dd8-9d1f-b9d0af37d99b"
   },
   "outputs": [],
   "source": [
    "drive.mount('/content/drive', force_remount=True)"
   ]
  },
  {
   "cell_type": "code",
   "execution_count": null,
   "metadata": {
    "id": "23Pw4p4mjlrd"
   },
   "outputs": [],
   "source": [
    "def geojson2FeatureCollection(path_file='/content/drive/MyDrive/fundar_deforestacion/ecoregiones/chaco_seco.geojson'):\n",
    "  with open(path_file) as f:\n",
    "    json_data = json.load(f)\n",
    "  return(ee.FeatureCollection(json_data))"
   ]
  },
  {
   "cell_type": "code",
   "execution_count": null,
   "metadata": {
    "id": "aCSFB2wL-oDl"
   },
   "outputs": [],
   "source": [
    "def scale_factor(image):\n",
    "  return image.expression('float(b(\"NDVI\")*0.0001)') #//the value 0.0001 will be multiplied to all pixels of our ImageCollection"
   ]
  },
  {
   "cell_type": "code",
   "execution_count": null,
   "metadata": {
    "id": "jVpDLlM2-WrJ"
   },
   "outputs": [],
   "source": [
    "def exporto_modis(area,\n",
    "                  tipo_ndvi = \"anual\",\n",
    "                  rango_anios = range(0, 4, 1),\n",
    "                  file_sufix = \"00-03\"):\n",
    "\n",
    "  lista_modis = []\n",
    "\n",
    "  if tipo_ndvi == \"anual\":\n",
    "\n",
    "    for i in rango_anios:\n",
    "\n",
    "      if i < 10:\n",
    "        \n",
    "            selec_modis = modis.filterBounds(area).filterDate('200'+str(i)+'-01-01', '200'+str(i)+'-12-30').select('NDVI')\n",
    "            selec_modis = selec_modis.map(scale_factor)\n",
    "            selec_modis = selec_modis.median().rename('NDVI_200'+str(i)).clip(area)\n",
    "            lista_modis.append(selec_modis)\n",
    "\n",
    "\n",
    "      elif i>=10:\n",
    "\n",
    "              selec_modis = modis.filterBounds(area).filterDate('20'+str(i)+'-01-01', '20'+str(i)+'-12-30').select('NDVI')\n",
    "              selec_modis = selec_modis.map(scale_factor)\n",
    "              selec_modis = selec_modis.median().rename('NDVI_20'+str(i)).clip(area)\n",
    "              lista_modis.append(selec_modis)\n",
    "\n",
    "    modis_filtrada = lista_modis[0]\n",
    "\n",
    "    for images in lista_modis[1:]:\n",
    "      modis_filtrada = modis_filtrada.addBands(images)\n",
    "\n",
    "  elif tipo_ndvi == \"cuatrimestral\":\n",
    "    \n",
    "    for i in rango_anios:\n",
    "\n",
    "      if i < 10:\n",
    "\n",
    "        for t in range(1, 5):\n",
    "\n",
    "          if t == 1: \n",
    "\n",
    "            selec_modis = modis.filterBounds(area).filterDate('200'+str(i)+'-01-01', '200'+str(i)+'-03-30').select('NDVI')\n",
    "            selec_modis = selec_modis.map(scale_factor)\n",
    "            selec_modis = selec_modis.median().rename('NDVI_200'+str(i)+'_'+str(t)).clip(area)\n",
    "            lista_modis.append(selec_modis)\n",
    "          \n",
    "          elif t == 2: \n",
    "\n",
    "            selec_modis = modis.filterBounds(area).filterDate('200'+str(i)+'-04-01', '200'+str(i)+'-06-30').select('NDVI')\n",
    "            selec_modis = selec_modis.map(scale_factor)\n",
    "            selec_modis = selec_modis.median().rename('NDVI_200'+str(i)+'_'+str(t)).clip(area)\n",
    "            lista_modis.append(selec_modis)\n",
    "\n",
    "          elif t == 3: \n",
    "          \n",
    "            selec_modis = modis.filterBounds(area).filterDate('200'+str(i)+'-07-01', '200'+str(i)+'-09-30').select('NDVI')\n",
    "            selec_modis = selec_modis.map(scale_factor)\n",
    "            selec_modis = selec_modis.median().rename('NDVI_200'+str(i)+'_'+str(t)).clip(area)\n",
    "            lista_modis.append(selec_modis)\n",
    "\n",
    "          elif t == 4: \n",
    "          \n",
    "            selec_modis = modis.filterBounds(area).filterDate('200'+str(i)+'-10-01', '200'+str(i)+'-12-30').select('NDVI')\n",
    "            selec_modis = selec_modis.map(scale_factor)\n",
    "            selec_modis = selec_modis.median().rename('NDVI_200'+str(i)+'_'+str(t)).clip(area)\n",
    "            lista_modis.append(selec_modis)\n",
    "\n",
    "      elif i>10:\n",
    "\n",
    "          for t in range(1, 5):\n",
    "\n",
    "            if t == 1: \n",
    "\n",
    "              selec_modis = modis.filterBounds(area).filterDate('20'+str(i)+'-01-01', '20'+str(i)+'-03-30').select('NDVI')\n",
    "              selec_modis = selec_modis.map(scale_factor)\n",
    "              selec_modis = selec_modis.median().rename('NDVI_20'+str(i)+'_'+str(t)).clip(area)\n",
    "              lista_modis.append(selec_modis)\n",
    "            \n",
    "            elif t == 2: \n",
    "\n",
    "              selec_modis = modis.filterBounds(area).filterDate('20'+str(i)+'-04-01', '20'+str(i)+'-06-30').select('NDVI')\n",
    "              selec_modis = selec_modis.map(scale_factor)\n",
    "              selec_modis = selec_modis.median().rename('NDVI_20'+str(i)+'_'+str(t)).clip(area)\n",
    "              lista_modis.append(selec_modis)\n",
    "\n",
    "            elif t == 3: \n",
    "            \n",
    "              selec_modis = modis.filterBounds(area).filterDate('20'+str(i)+'-07-01', '20'+str(i)+'-09-30').select('NDVI')\n",
    "              selec_modis = selec_modis.map(scale_factor)\n",
    "              selec_modis = selec_modis.median().rename('NDVI_20'+str(i)+'_'+str(t)).clip(area)\n",
    "              lista_modis.append(selec_modis)\n",
    "\n",
    "            elif t == 4: \n",
    "            \n",
    "              selec_modis = modis.filterBounds(area).filterDate('20'+str(i)+'-10-01', '20'+str(i)+'-12-30').select('NDVI')\n",
    "              selec_modis = selec_modis.map(scale_factor)\n",
    "              selec_modis = selec_modis.median().rename('NDVI_20'+str(i)+'_'+str(t)).clip(area)\n",
    "              lista_modis.append(selec_modis)\n",
    "          \n",
    "\n",
    "    modis_filtrada = lista_modis[0]\n",
    "\n",
    "    for images in lista_modis[1:]:\n",
    "      modis_filtrada = modis_filtrada.addBands(images)\n",
    "\n",
    "    # Python Implementation for Removing bands. Tiene que haber una manera de hacer que se borre la columna si tiene NA, averiguar más adelante\n",
    "    nameOfBands = modis_filtrada.bandNames().getInfo()\n",
    "    nameOfBands.remove(\"NDVI_2001_2\")\n",
    "    print(nameOfBands) #// Check if everything in order\n",
    "\n",
    "    modis_filtrada = modis_filtrada.select(nameOfBands) # Select all bands except the one you wanna remove\n",
    "\n",
    "  \n",
    "  training = modis_filtrada.sampleRegions(**{\n",
    "              'collection': train_set,\n",
    "              'properties': ['label'],\n",
    "              'scale': 250,\n",
    "              'geometries':True\n",
    "            })\n",
    "  \n",
    "  task_train = ee.batch.Export.table.toDrive(**{\n",
    "          'collection': training,\n",
    "          'description': 'ndvi_train_set_'+file_sufix,\n",
    "          'folder':'fundar_deforestacion_input',\n",
    "          'fileFormat': 'GeoJSON' })\n",
    "          \n",
    "  task_train.start()\n",
    "\n",
    "  testing = modis_filtrada.sampleRegions(**{\n",
    "              'collection': test_set,\n",
    "              'properties': ['label'],\n",
    "              'scale': 250,\n",
    "              'geometries':True\n",
    "            })\n",
    "\n",
    "  task_test = ee.batch.Export.table.toDrive(**{\n",
    "          'collection': testing,\n",
    "          'description': 'ndvi_test_set_'+file_sufix,\n",
    "          'folder':'fundar_deforestacion_input',\n",
    "          'fileFormat': 'GeoJSON' })\n",
    "          \n",
    "  task_test.start()\n",
    "\n",
    "  print(\"Exportando train y test de los años \"+file_sufix)"
   ]
  },
  {
   "cell_type": "code",
   "execution_count": null,
   "metadata": {
    "id": "cABxKqcjrP2_"
   },
   "outputs": [],
   "source": [
    "train_set = geojson2FeatureCollection('/content/drive/MyDrive/fundar_deforestacion/data/training_data.geojson')\n",
    "test_set = geojson2FeatureCollection('/content/drive/MyDrive/fundar_deforestacion/data/test_data.geojson')"
   ]
  },
  {
   "cell_type": "code",
   "execution_count": null,
   "metadata": {
    "id": "I06XEImoPScb"
   },
   "outputs": [],
   "source": [
    "modis = ee.ImageCollection(\"MODIS/MOD09GA_006_NDVI\")\n",
    "region =  ee.FeatureCollection('projects/ee-ldb-deforestacion-montes/assets/Chaco_Seco')"
   ]
  },
  {
   "cell_type": "code",
   "execution_count": null,
   "metadata": {
    "id": "WMtBGUUf9MbH"
   },
   "outputs": [],
   "source": [
    "landcover = ee.Image(\"projects/ee-germanrosati/assets/traj_7years_clust_recode\")\n",
    "landcover = landcover.select('b1')"
   ]
  },
  {
   "cell_type": "code",
   "execution_count": null,
   "metadata": {
    "colab": {
     "base_uri": "https://localhost:8080/"
    },
    "id": "UKlY7RUYvqYq",
    "outputId": "8e37a588-a49b-4da7-a2da-d4bb282b4341"
   },
   "outputs": [],
   "source": [
    "for i in [0, 3, 4, 7, 10, 13, 16, 18]:\n",
    "\n",
    "  exporto_modis(region,\n",
    "                tipo_ndvi = \"anual\",\n",
    "                rango_anios = range(i, i+3, 1),\n",
    "                file_sufix = str(i)+\"-\"+str(i+2))\n"
   ]
  }
 ],
 "metadata": {
  "colab": {
   "provenance": []
  },
  "kernelspec": {
   "display_name": "Python 3 (ipykernel)",
   "language": "python",
   "name": "python3"
  },
  "language_info": {
   "codemirror_mode": {
    "name": "ipython",
    "version": 3
   },
   "file_extension": ".py",
   "mimetype": "text/x-python",
   "name": "python",
   "nbconvert_exporter": "python",
   "pygments_lexer": "ipython3",
   "version": "3.9.7"
  }
 },
 "nbformat": 4,
 "nbformat_minor": 4
}
