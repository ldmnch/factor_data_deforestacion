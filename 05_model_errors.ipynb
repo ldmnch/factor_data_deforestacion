{
 "cells": [
  {
   "cell_type": "code",
   "execution_count": 1,
   "metadata": {},
   "outputs": [],
   "source": [
    "import geopandas as gpd\n",
    "import numpy as np\n",
    "import pygeos"
   ]
  },
  {
   "cell_type": "code",
   "execution_count": 2,
   "metadata": {},
   "outputs": [],
   "source": [
    "gpd.options.use_pygeos=True"
   ]
  },
  {
   "cell_type": "code",
   "execution_count": 5,
   "metadata": {},
   "outputs": [],
   "source": [
    "predictions = gpd.read_file(\"data/preds/test_predictions.shp\")\n",
    "landcover = gpd.read_file(\"data/landcover_test_set.geojson\")\n",
    "#landcover = gpd.read_file(\"data/landcover_train_set.geojson\")"
   ]
  },
  {
   "cell_type": "code",
   "execution_count": 7,
   "metadata": {},
   "outputs": [
    {
     "name": "stderr",
     "output_type": "stream",
     "text": [
      "/home/laia/anaconda3/lib/python3.9/site-packages/geopandas/array.py:344: UserWarning: Geometry is in a geographic CRS. Results from 'sjoin_nearest' are likely incorrect. Use 'GeoSeries.to_crs()' to re-project geometries to a projected CRS before this operation.\n",
      "\n",
      "  warnings.warn(\n"
     ]
    }
   ],
   "source": [
    "preds_landcover = predictions.sjoin_nearest(landcover, how=\"left\", distance_col=\"Distances\")"
   ]
  },
  {
   "cell_type": "code",
   "execution_count": 13,
   "metadata": {},
   "outputs": [],
   "source": [
    "preds_landcover = preds_landcover[preds_landcover['Distances'] < 0.1] "
   ]
  },
  {
   "cell_type": "code",
   "execution_count": 16,
   "metadata": {},
   "outputs": [],
   "source": [
    "errores_RF = preds_landcover[preds_landcover['label'] != preds_landcover['prediction']]"
   ]
  },
  {
   "cell_type": "code",
   "execution_count": 17,
   "metadata": {},
   "outputs": [
    {
     "data": {
      "text/plain": [
       "11111.000    136\n",
       "66666.000     93\n",
       "22222.000     90\n",
       "33333.000     21\n",
       "21111.000     14\n",
       "            ... \n",
       "22284.438      1\n",
       "40277.375      1\n",
       "20104.000      1\n",
       "33249.750      1\n",
       "26735.844      1\n",
       "Name: b1, Length: 197, dtype: int64"
      ]
     },
     "execution_count": 17,
     "metadata": {},
     "output_type": "execute_result"
    }
   ],
   "source": [
    "errores_RF['b1'].value_counts()"
   ]
  },
  {
   "cell_type": "code",
   "execution_count": 20,
   "metadata": {},
   "outputs": [],
   "source": [
    "errores_LR = preds_landcover[preds_landcover['label'] != preds_landcover['predicti_1']]"
   ]
  },
  {
   "cell_type": "code",
   "execution_count": 21,
   "metadata": {},
   "outputs": [
    {
     "data": {
      "text/plain": [
       "66666.000    166\n",
       "11111.000    162\n",
       "22222.000    142\n",
       "22111.000     20\n",
       "38888.500     17\n",
       "            ... \n",
       "22145.688      1\n",
       "18888.656      1\n",
       "22662.000      1\n",
       "37499.625      1\n",
       "26735.844      1\n",
       "Name: b1, Length: 218, dtype: int64"
      ]
     },
     "execution_count": 21,
     "metadata": {},
     "output_type": "execute_result"
    }
   ],
   "source": [
    "errores_LR['b1'].value_counts()"
   ]
  },
  {
   "cell_type": "code",
   "execution_count": 22,
   "metadata": {},
   "outputs": [],
   "source": [
    "errores_XGB = preds_landcover[preds_landcover['label'] != preds_landcover['predicti_2']]"
   ]
  },
  {
   "cell_type": "code",
   "execution_count": 23,
   "metadata": {},
   "outputs": [
    {
     "data": {
      "text/plain": [
       "11111.000    147\n",
       "66666.000    107\n",
       "22222.000     94\n",
       "33333.000     21\n",
       "21111.000     17\n",
       "            ... \n",
       "22145.688      1\n",
       "24728.500      1\n",
       "55665.000      1\n",
       "24930.062      1\n",
       "26735.844      1\n",
       "Name: b1, Length: 203, dtype: int64"
      ]
     },
     "execution_count": 23,
     "metadata": {},
     "output_type": "execute_result"
    }
   ],
   "source": [
    "errores_XGB['b1'].value_counts()"
   ]
  }
 ],
 "metadata": {
  "kernelspec": {
   "display_name": "Python 3 (ipykernel)",
   "language": "python",
   "name": "python3"
  },
  "language_info": {
   "codemirror_mode": {
    "name": "ipython",
    "version": 3
   },
   "file_extension": ".py",
   "mimetype": "text/x-python",
   "name": "python",
   "nbconvert_exporter": "python",
   "pygments_lexer": "ipython3",
   "version": "3.9.7"
  }
 },
 "nbformat": 4,
 "nbformat_minor": 4
}
