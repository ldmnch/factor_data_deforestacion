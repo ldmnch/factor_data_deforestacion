{
 "cells": [
  {
   "cell_type": "code",
   "execution_count": 1,
   "id": "1a0d8f54-4123-4e5a-8c3f-f81924b946b9",
   "metadata": {},
   "outputs": [],
   "source": [
    "import ee \n",
    "from functions import geojson2FeatureCollection, exporto_modis, proc_data, run_predictions"
   ]
  },
  {
   "cell_type": "code",
   "execution_count": null,
   "id": "09dfa7b4-6980-45ca-a1b0-b92db13c7b16",
   "metadata": {},
   "outputs": [],
   "source": [
    "predicted_data = run_predictions('./data/test_region/data_final.geojson',\n",
    "               model = \"RF\")"
   ]
  }
 ],
 "metadata": {
  "kernelspec": {
   "display_name": "Python 3 (ipykernel)",
   "language": "python",
   "name": "python3"
  },
  "language_info": {
   "codemirror_mode": {
    "name": "ipython",
    "version": 3
   },
   "file_extension": ".py",
   "mimetype": "text/x-python",
   "name": "python",
   "nbconvert_exporter": "python",
   "pygments_lexer": "ipython3",
   "version": "3.9.7"
  }
 },
 "nbformat": 4,
 "nbformat_minor": 5
}
