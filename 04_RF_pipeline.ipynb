{
 "cells": [
  {
   "cell_type": "code",
   "execution_count": 1,
   "id": "9d8d31e9-2873-45fc-bbe4-08fb0cc22856",
   "metadata": {},
   "outputs": [],
   "source": [
    "from sklearn.ensemble import RandomForestClassifier\n",
    "from sklearn.metrics import classification_report\n",
    "from sklearn.pipeline import Pipeline\n",
    "from sklearn.model_selection import GridSearchCV, KFold\n",
    "from sklearn.preprocessing import StandardScaler\n",
    "\n",
    "from joblib import dump, load\n",
    "import geopandas as gpd\n",
    "import pandas as pd\n",
    "import numpy as np"
   ]
  },
  {
   "cell_type": "code",
   "execution_count": 6,
   "id": "5a900fea-52d5-4216-a595-960a9dedce24",
   "metadata": {},
   "outputs": [],
   "source": [
    "train = gpd.read_file( \"./data/train_data_final.geojson\")\n",
    "test =  gpd.read_file(\"./data/train_data_final.geojson\")"
   ]
  },
  {
   "cell_type": "code",
   "execution_count": 7,
   "id": "4a8d658a-aec5-45b3-99d1-20b8ad7252d5",
   "metadata": {},
   "outputs": [],
   "source": [
    "X_train = train.loc[:,'NDVI_2000':'NDVI_2019']\n",
    "y_train = train['label.x']\n",
    "X_test = test.loc[:,'NDVI_2000':'NDVI_2019']\n",
    "y_test = test['label.x']"
   ]
  },
  {
   "cell_type": "code",
   "execution_count": 8,
   "id": "87d221ff-50bd-4528-a49e-8e290690c602",
   "metadata": {},
   "outputs": [],
   "source": [
    "pipe = Pipeline(\n",
    "    [\n",
    "        ('preproc_scaling', StandardScaler()),\n",
    "        ('rf', RandomForestClassifier())\n",
    "    \n",
    "    ])"
   ]
  },
  {
   "cell_type": "code",
   "execution_count": 9,
   "id": "dc8e67c6-bb71-4784-a088-654fb8d25fa1",
   "metadata": {},
   "outputs": [],
   "source": [
    "parameters = {'rf__n_estimators':[100, 200, 300, 400, 500],\n",
    "              'rf__max_features':np.arange(1, X_train.shape[1]+1),\n",
    "              'rf__max_depth':[1,10,25,30, 50,75]}"
   ]
  },
  {
   "cell_type": "code",
   "execution_count": 10,
   "id": "879975a0-1c76-4a78-87e6-2fae64f8ecec",
   "metadata": {},
   "outputs": [],
   "source": [
    "grid_search = GridSearchCV(pipe, \n",
    "                        parameters,\n",
    "                        verbose=1,\n",
    "                        cv=KFold(n_splits=5, shuffle=True, random_state=123),\n",
    "                        n_jobs=16,\n",
    "                        #return_train_score=True,\n",
    "                        scoring='f1_macro',\n",
    "                        #refit=False,\n",
    "                       )\n"
   ]
  },
  {
   "cell_type": "code",
   "execution_count": 11,
   "id": "8978ed78-2173-499a-9181-f694f8feb1ce",
   "metadata": {},
   "outputs": [
    {
     "name": "stdout",
     "output_type": "stream",
     "text": [
      "Fitting 5 folds for each of 390 candidates, totalling 1950 fits\n"
     ]
    },
    {
     "data": {
      "text/plain": [
       "GridSearchCV(cv=KFold(n_splits=5, random_state=123, shuffle=True),\n",
       "             estimator=Pipeline(steps=[('preproc_scaling', StandardScaler()),\n",
       "                                       ('rf', RandomForestClassifier())]),\n",
       "             n_jobs=16,\n",
       "             param_grid={'rf__max_depth': [1, 10, 25, 30, 50, 75],\n",
       "                         'rf__max_features': array([ 1,  2,  3,  4,  5,  6,  7,  8,  9, 10, 11, 12, 13]),\n",
       "                         'rf__n_estimators': [100, 200, 300, 400, 500]},\n",
       "             scoring='f1_macro', verbose=1)"
      ]
     },
     "execution_count": 11,
     "metadata": {},
     "output_type": "execute_result"
    }
   ],
   "source": [
    "grid_search.fit(X_train, y_train)"
   ]
  },
  {
   "cell_type": "code",
   "execution_count": 12,
   "id": "deda5eae-9f30-49c9-837c-dfd0cbd8ee34",
   "metadata": {},
   "outputs": [],
   "source": [
    "y_pred = grid_search.predict(X_test)"
   ]
  },
  {
   "cell_type": "code",
   "execution_count": 13,
   "id": "b2d2bad2-d940-4e66-894a-95b17b843416",
   "metadata": {},
   "outputs": [
    {
     "name": "stdout",
     "output_type": "stream",
     "text": [
      "              precision    recall  f1-score   support\n",
      "\n",
      "           0       0.67      0.55      0.61       877\n",
      "           1       0.97      0.98      0.97      4964\n",
      "           2       0.69      0.77      0.72       859\n",
      "\n",
      "    accuracy                           0.90      6700\n",
      "   macro avg       0.78      0.77      0.77      6700\n",
      "weighted avg       0.89      0.90      0.89      6700\n",
      "\n"
     ]
    }
   ],
   "source": [
    "print(classification_report(y_test, y_pred))"
   ]
  },
  {
   "cell_type": "code",
   "execution_count": 14,
   "id": "67ca6706-c475-47f3-95c0-ddc23e9b3113",
   "metadata": {},
   "outputs": [
    {
     "data": {
      "text/plain": [
       "['./models/cv_rf_2.joblib']"
      ]
     },
     "execution_count": 14,
     "metadata": {},
     "output_type": "execute_result"
    }
   ],
   "source": [
    "dump(grid_search, './models/cv_rf_2.joblib') "
   ]
  },
  {
   "cell_type": "code",
   "execution_count": null,
   "id": "8887ec23-2431-437c-a3be-718b7861ae67",
   "metadata": {},
   "outputs": [],
   "source": []
  }
 ],
 "metadata": {
  "kernelspec": {
   "display_name": "Python 3 (ipykernel)",
   "language": "python",
   "name": "python3"
  },
  "language_info": {
   "codemirror_mode": {
    "name": "ipython",
    "version": 3
   },
   "file_extension": ".py",
   "mimetype": "text/x-python",
   "name": "python",
   "nbconvert_exporter": "python",
   "pygments_lexer": "ipython3",
   "version": "3.9.7"
  }
 },
 "nbformat": 4,
 "nbformat_minor": 5
}
