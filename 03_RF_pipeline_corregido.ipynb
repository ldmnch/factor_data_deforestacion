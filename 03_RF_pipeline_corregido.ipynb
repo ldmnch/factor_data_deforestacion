{
 "cells": [
  {
   "cell_type": "code",
   "execution_count": 1,
   "id": "9d8d31e9-2873-45fc-bbe4-08fb0cc22856",
   "metadata": {},
   "outputs": [],
   "source": [
    "from sklearn.ensemble import RandomForestClassifier\n",
    "from sklearn.metrics import classification_report\n",
    "from sklearn.pipeline import Pipeline\n",
    "from sklearn.model_selection import GridSearchCV, KFold\n",
    "from sklearn.preprocessing import StandardScaler\n",
    "\n",
    "from joblib import dump, load\n",
    "import geopandas as gpd\n",
    "import pandas as pd\n",
    "import numpy as np"
   ]
  },
  {
   "cell_type": "code",
   "execution_count": 2,
   "id": "5a900fea-52d5-4216-a595-960a9dedce24",
   "metadata": {},
   "outputs": [],
   "source": [
    "train = gpd.read_file( \"./data/train_data_final.geojson\")\n",
    "test =  gpd.read_file(\"./data/test_data_final.geojson\")"
   ]
  },
  {
   "cell_type": "code",
   "execution_count": 3,
   "id": "4a8d658a-aec5-45b3-99d1-20b8ad7252d5",
   "metadata": {},
   "outputs": [],
   "source": [
    "X_train = train.loc[:,'NDVI_2000':'NDVI_2019']\n",
    "y_train = train['label_0']\n",
    "X_test = test.loc[:,'NDVI_2000':'NDVI_2019']\n",
    "y_test = test['label_0']"
   ]
  },
  {
   "cell_type": "code",
   "execution_count": 4,
   "id": "87d221ff-50bd-4528-a49e-8e290690c602",
   "metadata": {},
   "outputs": [],
   "source": [
    "pipe = Pipeline(\n",
    "    [\n",
    "        ('preproc_scaling', StandardScaler()),\n",
    "        ('rf', RandomForestClassifier())\n",
    "    \n",
    "    ])"
   ]
  },
  {
   "cell_type": "code",
   "execution_count": 5,
   "id": "dc8e67c6-bb71-4784-a088-654fb8d25fa1",
   "metadata": {},
   "outputs": [],
   "source": [
    "parameters = {'rf__n_estimators':[100, 200, 300, 400, 500],\n",
    "              'rf__max_features':np.arange(1, X_train.shape[1]+1),\n",
    "              'rf__max_depth':[1,10,25,30, 50,75]}"
   ]
  },
  {
   "cell_type": "code",
   "execution_count": 6,
   "id": "879975a0-1c76-4a78-87e6-2fae64f8ecec",
   "metadata": {},
   "outputs": [],
   "source": [
    "grid_search = GridSearchCV(pipe, \n",
    "                        parameters,\n",
    "                        verbose=1,\n",
    "                        cv=KFold(n_splits=5, shuffle=True, random_state=123),\n",
    "                        n_jobs=16,\n",
    "                        #return_train_score=True,\n",
    "                        scoring='f1_macro',\n",
    "                        #refit=False,\n",
    "                       )\n"
   ]
  },
  {
   "cell_type": "code",
   "execution_count": null,
   "id": "8978ed78-2173-499a-9181-f694f8feb1ce",
   "metadata": {},
   "outputs": [
    {
     "name": "stdout",
     "output_type": "stream",
     "text": [
      "Fitting 5 folds for each of 570 candidates, totalling 2850 fits\n"
     ]
    }
   ],
   "source": [
    "grid_search.fit(X_train, y_train)"
   ]
  },
  {
   "cell_type": "code",
   "execution_count": null,
   "id": "deda5eae-9f30-49c9-837c-dfd0cbd8ee34",
   "metadata": {},
   "outputs": [],
   "source": [
    "y_pred = grid_search.predict(X_test)"
   ]
  },
  {
   "cell_type": "code",
   "execution_count": null,
   "id": "e6840e63-395b-4fc9-95f6-253c4542cac6",
   "metadata": {},
   "outputs": [],
   "source": [
    "print(classification_report(y_test, y_pred))"
   ]
  },
  {
   "cell_type": "code",
   "execution_count": null,
   "id": "67ca6706-c475-47f3-95c0-ddc23e9b3113",
   "metadata": {},
   "outputs": [],
   "source": [
    "dump(grid_search, './models/cv_rf.joblib') "
   ]
  },
  {
   "cell_type": "code",
   "execution_count": null,
   "id": "8887ec23-2431-437c-a3be-718b7861ae67",
   "metadata": {},
   "outputs": [],
   "source": []
  }
 ],
 "metadata": {
  "kernelspec": {
   "display_name": "Python 3 (ipykernel)",
   "language": "python",
   "name": "python3"
  },
  "language_info": {
   "codemirror_mode": {
    "name": "ipython",
    "version": 3
   },
   "file_extension": ".py",
   "mimetype": "text/x-python",
   "name": "python",
   "nbconvert_exporter": "python",
   "pygments_lexer": "ipython3",
   "version": "3.9.7"
  }
 },
 "nbformat": 4,
 "nbformat_minor": 5
}
