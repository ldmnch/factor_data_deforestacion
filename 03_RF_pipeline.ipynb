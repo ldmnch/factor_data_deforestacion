{
 "cells": [
  {
   "cell_type": "code",
   "execution_count": 5,
   "metadata": {
    "id": "_xKTfvpIzf8g"
   },
   "outputs": [],
   "source": [
    "from sklearn.ensemble import RandomForestClassifier\n",
    "from sklearn.metrics import classification_report\n",
    "from sklearn.pipeline import Pipeline\n",
    "from sklearn.model_selection import GridSearchCV, KFold\n",
    "from sklearn.preprocessing import StandardScaler\n",
    "\n",
    "from joblib import dump, load\n",
    "import geopandas as gpd\n",
    "\n",
    "import numpy as np"
   ]
  },
  {
   "cell_type": "code",
   "execution_count": 6,
   "metadata": {
    "id": "zfN_yTy1z7Q8"
   },
   "outputs": [],
   "source": [
    "train = gpd.read_file( \"./data/train_data_final.geojson\")\n",
    "test =  gpd.read_file(\"./data/test_data_final.geojson\")"
   ]
  },
  {
   "cell_type": "code",
   "execution_count": 7,
   "metadata": {
    "id": "7ooSD3Dk0yOY"
   },
   "outputs": [],
   "source": [
    "X = train.loc[:,'NDVI_2000':'NDVI_2019']\n",
    "y = train['label_0']\n",
    "X_test = test.loc[:,'NDVI_2000':'NDVI_2019']"
   ]
  },
  {
   "cell_type": "code",
   "execution_count": 8,
   "metadata": {
    "id": "0w-EDL3x5Kv5"
   },
   "outputs": [],
   "source": [
    "pipe = Pipeline([('preproc_scaling', StandardScaler()),\n",
    "                 ('rf', RandomForestClassifier())])"
   ]
  },
  {
   "cell_type": "code",
   "execution_count": 9,
   "metadata": {
    "id": "9KrllZD985eq"
   },
   "outputs": [],
   "source": [
    "parameters = {'rf__n_estimators':[100, 200, 300, 400, 500],\n",
    "              'rf__max_features':np.arange(1, X.shape[1]+1),\n",
    "              'rf__max_depth':[1,10,25,30, 50,75]\n",
    "             }\n",
    "\n",
    "pipe = GridSearchCV(pipe, \n",
    "                    parameters,\n",
    "                    verbose=1,\n",
    "                    cv=KFold(n_splits=5, shuffle=True, random_state=123),\n",
    "                    n_jobs=16,\n",
    "                    #return_train_score=True,\n",
    "                    scoring='f1_macro'                   \n",
    "                    #refit=False\n",
    "                   )"
   ]
  },
  {
   "cell_type": "code",
   "execution_count": null,
   "metadata": {
    "colab": {
     "base_uri": "https://localhost:8080/"
    },
    "id": "amgTj_Im5vJa",
    "outputId": "f2b94fe5-cadd-4e41-f7f3-20fc2db75db1"
   },
   "outputs": [
    {
     "name": "stdout",
     "output_type": "stream",
     "text": [
      "Fitting 5 folds for each of 570 candidates, totalling 2850 fits\n"
     ]
    }
   ],
   "source": [
    "pipe.fit(X, y)"
   ]
  },
  {
   "cell_type": "code",
   "execution_count": 14,
   "metadata": {},
   "outputs": [
    {
     "data": {
      "text/plain": [
       "['./models/cv_rf.joblib']"
      ]
     },
     "execution_count": 14,
     "metadata": {},
     "output_type": "execute_result"
    }
   ],
   "source": [
    "dump(pipe, './models/cv_rf.joblib') "
   ]
  },
  {
   "cell_type": "code",
   "execution_count": 16,
   "metadata": {
    "colab": {
     "base_uri": "https://localhost:8080/"
    },
    "id": "8QSIgU821vsP",
    "outputId": "30afcf05-f778-4406-f270-b2f0e899128a"
   },
   "outputs": [
    {
     "data": {
      "text/plain": [
       "Pipeline(steps=[('rf',\n",
       "                 RandomForestClassifier(max_depth=30, max_features=2,\n",
       "                                        n_estimators=500))])"
      ]
     },
     "execution_count": 16,
     "metadata": {},
     "output_type": "execute_result"
    }
   ],
   "source": [
    "pipe.best_estimator_"
   ]
  },
  {
   "cell_type": "code",
   "execution_count": 17,
   "metadata": {
    "colab": {
     "base_uri": "https://localhost:8080/"
    },
    "id": "D4KkuusE1yZN",
    "outputId": "38aead74-7b0b-4219-df3f-863e87efb94f"
   },
   "outputs": [
    {
     "data": {
      "text/plain": [
       "{'rf__max_depth': 30, 'rf__max_features': 2, 'rf__n_estimators': 500}"
      ]
     },
     "execution_count": 17,
     "metadata": {},
     "output_type": "execute_result"
    }
   ],
   "source": [
    "pipe.best_params_"
   ]
  },
  {
   "cell_type": "code",
   "execution_count": 18,
   "metadata": {
    "colab": {
     "base_uri": "https://localhost:8080/"
    },
    "id": "-7BZk8qFA_S8",
    "outputId": "580f2fe4-674c-4c11-bb27-b045ba583d78"
   },
   "outputs": [
    {
     "data": {
      "text/plain": [
       "0.7569701913345194"
      ]
     },
     "execution_count": 18,
     "metadata": {},
     "output_type": "execute_result"
    }
   ],
   "source": [
    "pipe.best_score_"
   ]
  },
  {
   "cell_type": "code",
   "execution_count": null,
   "metadata": {},
   "outputs": [],
   "source": []
  },
  {
   "cell_type": "code",
   "execution_count": 19,
   "metadata": {
    "colab": {
     "base_uri": "https://localhost:8080/"
    },
    "id": "d9oJEXgX5z6u",
    "outputId": "5deb45e2-0f0a-482e-9c98-fde6de26da2b"
   },
   "outputs": [
    {
     "data": {
      "text/plain": [
       "0.7617997135700626"
      ]
     },
     "execution_count": 19,
     "metadata": {},
     "output_type": "execute_result"
    }
   ],
   "source": [
    "pipe.score(X_test, test.label_0)"
   ]
  },
  {
   "cell_type": "code",
   "execution_count": null,
   "metadata": {
    "id": "PS1YiHdKRVV2"
   },
   "outputs": [],
   "source": [
    "test.to_file(\"/content/drive/MyDrive/fundar_deforestacion/data/predictions_sklearn.geojson\")"
   ]
  },
  {
   "cell_type": "code",
   "execution_count": null,
   "metadata": {},
   "outputs": [],
   "source": []
  }
 ],
 "metadata": {
  "colab": {
   "collapsed_sections": [],
   "provenance": []
  },
  "kernelspec": {
   "display_name": "Python 3 (ipykernel)",
   "language": "python",
   "name": "python3"
  },
  "language_info": {
   "codemirror_mode": {
    "name": "ipython",
    "version": 3
   },
   "file_extension": ".py",
   "mimetype": "text/x-python",
   "name": "python",
   "nbconvert_exporter": "python",
   "pygments_lexer": "ipython3",
   "version": "3.9.7"
  }
 },
 "nbformat": 4,
 "nbformat_minor": 4
}
