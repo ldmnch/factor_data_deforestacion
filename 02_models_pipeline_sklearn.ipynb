{
 "cells": [
  {
   "cell_type": "code",
   "execution_count": 6,
   "metadata": {},
   "outputs": [
    {
     "name": "stdout",
     "output_type": "stream",
     "text": [
      "Collecting scikit-learn\n",
      "  Downloading scikit_learn-1.0.2-cp37-cp37m-win_amd64.whl (7.1 MB)\n",
      "Collecting scipy\n",
      "  Downloading scipy-1.7.3-cp37-cp37m-win_amd64.whl (34.1 MB)\n",
      "Collecting matplotlib\n",
      "  Downloading matplotlib-3.5.3-cp37-cp37m-win_amd64.whl (7.2 MB)\n",
      "Collecting joblib>=0.11\n",
      "  Downloading joblib-1.2.0-py3-none-any.whl (297 kB)\n",
      "Collecting threadpoolctl>=2.0.0\n",
      "  Downloading threadpoolctl-3.1.0-py3-none-any.whl (14 kB)\n",
      "Requirement already satisfied: numpy>=1.14.6 in c:\\users\\pascal\\anaconda3\\lib\\site-packages (from scikit-learn) (1.18.1)\n",
      "Collecting cycler>=0.10\n",
      "  Downloading cycler-0.11.0-py3-none-any.whl (6.4 kB)\n",
      "Collecting fonttools>=4.22.0\n",
      "  Downloading fonttools-4.38.0-py3-none-any.whl (965 kB)\n",
      "Requirement already satisfied: packaging>=20.0 in c:\\users\\pascal\\anaconda3\\lib\\site-packages (from matplotlib) (20.1)\n",
      "Requirement already satisfied: pillow>=6.2.0 in c:\\users\\pascal\\anaconda3\\lib\\site-packages (from matplotlib) (7.0.0)\n",
      "Collecting kiwisolver>=1.0.1\n",
      "  Downloading kiwisolver-1.4.4-cp37-cp37m-win_amd64.whl (54 kB)\n",
      "Requirement already satisfied: python-dateutil>=2.7 in c:\\users\\pascal\\anaconda3\\lib\\site-packages (from matplotlib) (2.8.1)\n",
      "Requirement already satisfied: pyparsing>=2.2.1 in c:\\users\\pascal\\anaconda3\\lib\\site-packages (from matplotlib) (2.4.6)\n",
      "Requirement already satisfied: six in c:\\users\\pascal\\anaconda3\\lib\\site-packages (from packaging>=20.0->matplotlib) (1.16.0)\n",
      "Collecting typing-extensions; python_version < \"3.8\"\n",
      "  Downloading typing_extensions-4.4.0-py3-none-any.whl (26 kB)\n",
      "Installing collected packages: joblib, threadpoolctl, scipy, scikit-learn, cycler, fonttools, typing-extensions, kiwisolver, matplotlib\n",
      "Successfully installed cycler-0.11.0 fonttools-4.38.0 joblib-1.2.0 kiwisolver-1.4.4 matplotlib-3.5.3 scikit-learn-1.0.2 scipy-1.7.3 threadpoolctl-3.1.0 typing-extensions-4.4.0\n"
     ]
    }
   ],
   "source": [
    "!pip install scikit-learn scipy matplotlib"
   ]
  },
  {
   "cell_type": "code",
   "execution_count": 7,
   "metadata": {
    "id": "_xKTfvpIzf8g"
   },
   "outputs": [],
   "source": [
    "from sklearn.ensemble import RandomForestClassifier\n",
    "from sklearn.metrics import classification_report\n",
    "from sklearn.pipeline import Pipeline\n",
    "from sklearn.model_selection import GridSearchCV, KFold\n",
    "from joblib import dump, load\n",
    "import geopandas as gpd\n",
    "\n",
    "import numpy as np"
   ]
  },
  {
   "cell_type": "code",
   "execution_count": 8,
   "metadata": {
    "id": "zfN_yTy1z7Q8"
   },
   "outputs": [],
   "source": [
    "train = gpd.read_file( \"./data/train_data_final.geojson\")\n",
    "test =  gpd.read_file(\"./data/test_data_final.geojson\")"
   ]
  },
  {
   "cell_type": "code",
   "execution_count": 9,
   "metadata": {
    "id": "7ooSD3Dk0yOY"
   },
   "outputs": [],
   "source": [
    "X = train.loc[:,'NDVI_2000':'NDVI_2019']\n",
    "y = train['label_0']\n",
    "X_test = test.loc[:,'NDVI_2000':'NDVI_2019']"
   ]
  },
  {
   "cell_type": "code",
   "execution_count": 10,
   "metadata": {
    "id": "0w-EDL3x5Kv5"
   },
   "outputs": [],
   "source": [
    "pipe = Pipeline([('rf', RandomForestClassifier())])"
   ]
  },
  {
   "cell_type": "code",
   "execution_count": 11,
   "metadata": {
    "id": "9KrllZD985eq"
   },
   "outputs": [],
   "source": [
    "parameters = {'rf__n_estimators':[100, 200, 300, 400, 500],\n",
    "              'rf__max_features':np.arange(1, X.shape[1]+1),\n",
    "              'rf__max_depth':[1,10,25,30, 50,75]\n",
    "             }\n",
    "\n",
    "pipe = GridSearchCV(pipe, \n",
    "                    parameters,\n",
    "                    verbose=1,\n",
    "                    cv=KFold(n_splits=5, shuffle=True, random_state=123),\n",
    "                    n_jobs=16,\n",
    "                    #return_train_score=True,\n",
    "                    scoring='f1_macro'                    \n",
    "                    #refit=False\n",
    "                   )"
   ]
  },
  {
   "cell_type": "code",
   "execution_count": 12,
   "metadata": {
    "colab": {
     "base_uri": "https://localhost:8080/"
    },
    "id": "amgTj_Im5vJa",
    "outputId": "f2b94fe5-cadd-4e41-f7f3-20fc2db75db1"
   },
   "outputs": [
    {
     "name": "stdout",
     "output_type": "stream",
     "text": [
      "Fitting 5 folds for each of 570 candidates, totalling 2850 fits\n"
     ]
    },
    {
     "data": {
      "text/plain": [
       "GridSearchCV(cv=KFold(n_splits=5, random_state=123, shuffle=True),\n",
       "             estimator=Pipeline(steps=[('rf', RandomForestClassifier())]),\n",
       "             n_jobs=16,\n",
       "             param_grid={'rf__max_depth': [1, 10, 25, 30, 50, 75],\n",
       "                         'rf__max_features': array([ 1,  2,  3,  4,  5,  6,  7,  8,  9, 10, 11, 12, 13, 14, 15, 16, 17,\n",
       "       18, 19]),\n",
       "                         'rf__n_estimators': [100, 200, 300, 400, 500]},\n",
       "             scoring='f1_macro', verbose=1)"
      ]
     },
     "execution_count": 12,
     "metadata": {},
     "output_type": "execute_result"
    }
   ],
   "source": [
    "pipe.fit(X, y)"
   ]
  },
  {
   "cell_type": "code",
   "execution_count": 14,
   "metadata": {},
   "outputs": [
    {
     "data": {
      "text/plain": [
       "['./models/cv_rf.joblib']"
      ]
     },
     "execution_count": 14,
     "metadata": {},
     "output_type": "execute_result"
    }
   ],
   "source": [
    "dump(pipe, './models/cv_rf.joblib') "
   ]
  },
  {
   "cell_type": "code",
   "execution_count": 16,
   "metadata": {
    "colab": {
     "base_uri": "https://localhost:8080/"
    },
    "id": "8QSIgU821vsP",
    "outputId": "30afcf05-f778-4406-f270-b2f0e899128a"
   },
   "outputs": [
    {
     "data": {
      "text/plain": [
       "Pipeline(steps=[('rf',\n",
       "                 RandomForestClassifier(max_depth=30, max_features=2,\n",
       "                                        n_estimators=500))])"
      ]
     },
     "execution_count": 16,
     "metadata": {},
     "output_type": "execute_result"
    }
   ],
   "source": [
    "pipe.best_estimator_"
   ]
  },
  {
   "cell_type": "code",
   "execution_count": 17,
   "metadata": {
    "colab": {
     "base_uri": "https://localhost:8080/"
    },
    "id": "D4KkuusE1yZN",
    "outputId": "38aead74-7b0b-4219-df3f-863e87efb94f"
   },
   "outputs": [
    {
     "data": {
      "text/plain": [
       "{'rf__max_depth': 30, 'rf__max_features': 2, 'rf__n_estimators': 500}"
      ]
     },
     "execution_count": 17,
     "metadata": {},
     "output_type": "execute_result"
    }
   ],
   "source": [
    "pipe.best_params_"
   ]
  },
  {
   "cell_type": "code",
   "execution_count": 18,
   "metadata": {
    "colab": {
     "base_uri": "https://localhost:8080/"
    },
    "id": "-7BZk8qFA_S8",
    "outputId": "580f2fe4-674c-4c11-bb27-b045ba583d78"
   },
   "outputs": [
    {
     "data": {
      "text/plain": [
       "0.7569701913345194"
      ]
     },
     "execution_count": 18,
     "metadata": {},
     "output_type": "execute_result"
    }
   ],
   "source": [
    "pipe.best_score_"
   ]
  },
  {
   "cell_type": "code",
   "execution_count": null,
   "metadata": {},
   "outputs": [],
   "source": []
  },
  {
   "cell_type": "code",
   "execution_count": 19,
   "metadata": {
    "colab": {
     "base_uri": "https://localhost:8080/"
    },
    "id": "d9oJEXgX5z6u",
    "outputId": "5deb45e2-0f0a-482e-9c98-fde6de26da2b"
   },
   "outputs": [
    {
     "data": {
      "text/plain": [
       "0.7617997135700626"
      ]
     },
     "execution_count": 19,
     "metadata": {},
     "output_type": "execute_result"
    }
   ],
   "source": [
    "pipe.score(X_test, test.label_0)"
   ]
  },
  {
   "cell_type": "code",
   "execution_count": null,
   "metadata": {
    "id": "PS1YiHdKRVV2"
   },
   "outputs": [],
   "source": [
    "test.to_file(\"/content/drive/MyDrive/fundar_deforestacion/data/predictions_sklearn.geojson\")"
   ]
  },
  {
   "cell_type": "code",
   "execution_count": null,
   "metadata": {},
   "outputs": [],
   "source": []
  }
 ],
 "metadata": {
  "colab": {
   "collapsed_sections": [],
   "provenance": []
  },
  "kernelspec": {
   "display_name": "Python 3 (ipykernel)",
   "language": "python",
   "name": "python3"
  },
  "language_info": {
   "codemirror_mode": {
    "name": "ipython",
    "version": 3
   },
   "file_extension": ".py",
   "mimetype": "text/x-python",
   "name": "python",
   "nbconvert_exporter": "python",
   "pygments_lexer": "ipython3",
   "version": "3.9.7"
  }
 },
 "nbformat": 4,
 "nbformat_minor": 4
}
