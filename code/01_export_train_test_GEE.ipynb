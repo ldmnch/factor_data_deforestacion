{
 "cells": [
  {
   "cell_type": "code",
   "execution_count": null,
   "metadata": {
    "id": "hjLKOjgAOkJ9"
   },
   "outputs": [],
   "source": [
    "import ee\n",
    "import geemap.foliumap as geemap\n",
    "import json\n",
    "import os\n",
    "\n",
    "import pandas as pd\n",
    "from sklearn import ensemble\n",
    "import numpy as np\n",
    "\n",
    "import time\n",
    "\n",
    "from math import sqrt\n",
    "\n",
    "from functions import geojson2FeatureCollection, exporto_modis_train_test"
   ]
  },
  {
   "cell_type": "code",
   "execution_count": null,
   "metadata": {
    "colab": {
     "base_uri": "https://localhost:8080/"
    },
    "id": "RyLm_3_vOuqG",
    "outputId": "922a68d7-aaec-4b1e-95c8-bdda84ebf87a"
   },
   "outputs": [],
   "source": [
    "ee.Authenticate()\n",
    "ee.Initialize()"
   ]
  },
  {
   "cell_type": "code",
   "execution_count": null,
   "metadata": {
    "colab": {
     "base_uri": "https://localhost:8080/"
    },
    "id": "0islVGdAOwMG",
    "outputId": "bca72920-658a-4dd8-9d1f-b9d0af37d99b"
   },
   "outputs": [],
   "source": [
    "drive.mount('/content/drive', force_remount=True)"
   ]
  },
  {
   "cell_type": "code",
   "execution_count": null,
   "metadata": {
    "id": "cABxKqcjrP2_"
   },
   "outputs": [],
   "source": [
    "train_set = geojson2FeatureCollection('../data/train_data_final.geojson')\n",
    "test_set = geojson2FeatureCollection('../data/test_data_final.geojson')"
   ]
  },
  {
   "cell_type": "code",
   "execution_count": null,
   "metadata": {},
   "outputs": [],
   "source": [
    "print(test_set.getInfo())"
   ]
  },
  {
   "cell_type": "code",
   "execution_count": null,
   "metadata": {
    "id": "I06XEImoPScb"
   },
   "outputs": [],
   "source": [
    "modis = ee.ImageCollection(\"MODIS/MOD09GA_006_NDVI\")\n",
    "region =  ee.FeatureCollection('projects/ee-ldb-deforestacion-montes/assets/Chaco_Seco')"
   ]
  },
  {
   "cell_type": "code",
   "execution_count": null,
   "metadata": {
    "id": "WMtBGUUf9MbH"
   },
   "outputs": [],
   "source": [
    "landcover = ee.Image(\"projects/ee-germanrosati/assets/traj_7years_clust_recode\")"
   ]
  },
  {
   "cell_type": "code",
   "execution_count": null,
   "metadata": {
    "colab": {
     "base_uri": "https://localhost:8080/"
    },
    "id": "UKlY7RUYvqYq",
    "outputId": "8e37a588-a49b-4da7-a2da-d4bb282b4341"
   },
   "outputs": [],
   "source": [
    "for i in [0, 3, 4, 7, 10, 13, 16, 18]:\n",
    "    \n",
    "    exporto_modis_train_test(region,\n",
    "                tipo_ndvi = \"anual\",\n",
    "                rango_anios = range(i, i+3, 1),\n",
    "                file_sufix = str(i)+\"-\"+str(i+2))"
   ]
  }
 ],
 "metadata": {
  "colab": {
   "provenance": []
  },
  "kernelspec": {
   "display_name": "Python 3 (ipykernel)",
   "language": "python",
   "name": "python3"
  },
  "language_info": {
   "codemirror_mode": {
    "name": "ipython",
    "version": 3
   },
   "file_extension": ".py",
   "mimetype": "text/x-python",
   "name": "python",
   "nbconvert_exporter": "python",
   "pygments_lexer": "ipython3",
   "version": "3.9.7"
  }
 },
 "nbformat": 4,
 "nbformat_minor": 4
}
