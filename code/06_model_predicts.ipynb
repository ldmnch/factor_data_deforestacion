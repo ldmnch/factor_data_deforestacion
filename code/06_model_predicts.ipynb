{
 "cells": [
  {
   "cell_type": "code",
   "execution_count": 2,
   "metadata": {},
   "outputs": [],
   "source": [
    "import warnings\n",
    "warnings.filterwarnings('ignore')\n",
    "\n",
    "from sklearn.metrics import classification_report\n",
    "\n",
    "from joblib import load\n",
    "\n",
    "import geopandas as gpd\n",
    "\n",
    "import xgboost as xgb\n",
    "\n",
    "import numpy as np\n",
    "import pandas as pd"
   ]
  },
  {
   "cell_type": "code",
   "execution_count": 3,
   "metadata": {},
   "outputs": [],
   "source": [
    "rf = load('./models/random_forest.joblib') \n",
    "lr = load('./models/logistic_reg.joblib') \n",
    "pipe_xgb = load('./models/xgb.joblib') "
   ]
  },
  {
   "cell_type": "code",
   "execution_count": 4,
   "metadata": {},
   "outputs": [],
   "source": [
    "train = gpd.read_file( \"./data/train_data_final.geojson\")\n",
    "test =  gpd.read_file(\"./data/test_data_final.geojson\")"
   ]
  },
  {
   "cell_type": "code",
   "execution_count": 5,
   "metadata": {},
   "outputs": [],
   "source": [
    "years_cols = ['year_'+str(i) for i in range(0,20)]"
   ]
  },
  {
   "cell_type": "code",
   "execution_count": 6,
   "metadata": {},
   "outputs": [],
   "source": [
    "cols_to_update_train = years_cols + train.columns[20:].tolist()\n",
    "train.columns = cols_to_update_train\n",
    "\n",
    "cols_to_update_test = years_cols + test.columns[20:].tolist()\n",
    "test.columns = cols_to_update_test"
   ]
  },
  {
   "cell_type": "code",
   "execution_count": 7,
   "metadata": {},
   "outputs": [],
   "source": [
    "X = train.loc[:,'year_0':'year_19']\n",
    "y = train['label']\n",
    "X_test = test.loc[:,'year_0':'year_19']"
   ]
  },
  {
   "cell_type": "code",
   "execution_count": 13,
   "metadata": {
    "tags": []
   },
   "outputs": [
    {
     "name": "stdout",
     "output_type": "stream",
     "text": [
      "Classification report de RF\n",
      "              precision    recall  f1-score   support\n",
      "\n",
      "           0       0.72      0.59      0.65       877\n",
      "           1       0.88      0.91      0.89       900\n",
      "           2       0.70      0.81      0.75       859\n",
      "\n",
      "    accuracy                           0.77      2636\n",
      "   macro avg       0.77      0.77      0.76      2636\n",
      "weighted avg       0.77      0.77      0.76      2636\n",
      "\n",
      "\n",
      "\n",
      "Classification report de reg logística\n",
      "              precision    recall  f1-score   support\n",
      "\n",
      "           0       0.56      0.49      0.52       877\n",
      "           1       0.77      0.77      0.77       900\n",
      "           2       0.67      0.75      0.70       859\n",
      "\n",
      "    accuracy                           0.67      2636\n",
      "   macro avg       0.67      0.67      0.67      2636\n",
      "weighted avg       0.67      0.67      0.67      2636\n",
      "\n",
      "\n",
      "\n",
      "Classification report de XGBoost\n",
      "              precision    recall  f1-score   support\n",
      "\n",
      "           0       0.67      0.60      0.63       877\n",
      "           1       0.86      0.89      0.88       900\n",
      "           2       0.70      0.75      0.73       859\n",
      "\n",
      "    accuracy                           0.75      2636\n",
      "   macro avg       0.75      0.75      0.75      2636\n",
      "weighted avg       0.75      0.75      0.75      2636\n",
      "\n",
      "\n",
      "\n"
     ]
    }
   ],
   "source": [
    "print(\"Classification report de RF\")\n",
    "print(classification_report(test['label'],rf.predict(X_test)))\n",
    "print(\"\\n\")\n",
    "print(\"Classification report de reg logística\")\n",
    "print(classification_report(test['label'],lr.predict(X_test)))\n",
    "print(\"\\n\")\n",
    "print(\"Classification report de XGBoost\")\n",
    "print(classification_report(test['label'],pipe_xgb.predict(X_test)))\n",
    "print(\"\\n\")"
   ]
  },
  {
   "cell_type": "code",
   "execution_count": 14,
   "metadata": {},
   "outputs": [],
   "source": [
    "test['predictions_rf'] = rf.predict(X_test)\n",
    "test['predictions_lr'] = lr.predict(X_test)\n",
    "test['predictions_xgb'] = pipe_xgb.predict(X_test)"
   ]
  },
  {
   "cell_type": "code",
   "execution_count": 15,
   "metadata": {},
   "outputs": [],
   "source": [
    "def exporto_clasif(modelo, nombre):\n",
    "    \n",
    "    report_data = classification_report(test['label'],modelo.predict(X_test), output_dict=True)\n",
    "    \n",
    "    dataframe = pd.DataFrame.from_dict(report_data).reset_index()\n",
    "    dataframe = dataframe.rename(columns={\"index\": \"metric\"})\n",
    "    \n",
    "    dataframe.to_csv('data/preds/classification_report_'+nombre+'.csv', index = False)"
   ]
  },
  {
   "cell_type": "code",
   "execution_count": 17,
   "metadata": {},
   "outputs": [],
   "source": [
    "exporto_clasif(rf, 'random_forest')\n",
    "exporto_clasif(lr, 'reg_log')\n",
    "exporto_clasif(pipe_xgb, 'xgb')"
   ]
  },
  {
   "cell_type": "code",
   "execution_count": 16,
   "metadata": {},
   "outputs": [],
   "source": [
    "test.to_file(\"data/test_predictions.geojson\", driver='GeoJSON')"
   ]
  }
 ],
 "metadata": {
  "kernelspec": {
   "display_name": "Python 3 (ipykernel)",
   "language": "python",
   "name": "python3"
  },
  "language_info": {
   "codemirror_mode": {
    "name": "ipython",
    "version": 3
   },
   "file_extension": ".py",
   "mimetype": "text/x-python",
   "name": "python",
   "nbconvert_exporter": "python",
   "pygments_lexer": "ipython3",
   "version": "3.9.7"
  }
 },
 "nbformat": 4,
 "nbformat_minor": 4
}
