{
 "cells": [
  {
   "cell_type": "code",
   "execution_count": 3,
   "id": "93fba0b1-0c19-4fe8-8144-c5b4a1fff82c",
   "metadata": {},
   "outputs": [],
   "source": [
    "import warnings\n",
    "warnings.filterwarnings('ignore')\n",
    "\n",
    "from functions import define_final_model\n",
    "from joblib import load"
   ]
  },
  {
   "cell_type": "code",
   "execution_count": 4,
   "id": "d5a7b0fb-0221-41a8-9252-f8e8ba0edd6e",
   "metadata": {},
   "outputs": [],
   "source": [
    "pipe_rf = load('./models/cv_rf.joblib') \n",
    "pipe_lr = load('./models/cv_lr.joblib') \n",
    "pipe_xgb = load('./models/cv_xgb_2.joblib') "
   ]
  },
  {
   "cell_type": "code",
   "execution_count": 5,
   "id": "52b8f065-3515-4bd9-84c3-fc0aba714627",
   "metadata": {},
   "outputs": [],
   "source": [
    "define_final_model(pipe_rf, 'random_forest')\n",
    "define_final_model(pipe_lr, 'logistic_reg')\n",
    "define_final_model(pipe_xgb, 'xgb')"
   ]
  }
 ],
 "metadata": {
  "kernelspec": {
   "display_name": "Python 3 (ipykernel)",
   "language": "python",
   "name": "python3"
  },
  "language_info": {
   "codemirror_mode": {
    "name": "ipython",
    "version": 3
   },
   "file_extension": ".py",
   "mimetype": "text/x-python",
   "name": "python",
   "nbconvert_exporter": "python",
   "pygments_lexer": "ipython3",
   "version": "3.11.3"
  }
 },
 "nbformat": 4,
 "nbformat_minor": 5
}
