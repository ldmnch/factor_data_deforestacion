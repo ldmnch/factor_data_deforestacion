{
 "cells": [
  {
   "cell_type": "code",
   "execution_count": null,
   "id": "c99f4f99-b2a0-4ba2-bf5c-5b3cf6e2ad91",
   "metadata": {
    "tags": []
   },
   "outputs": [],
   "source": [
    "import ee\n",
    "from functions import geojson2FeatureCollection, exporto_modis, proc_data, run_predictions\n",
    "import glob\n",
    "import pandas as pd\n",
    "from functools import reduce\n",
    "import geopandas as gpd"
   ]
  },
  {
   "cell_type": "code",
   "execution_count": null,
   "id": "ff3b7009-0242-43e5-892b-85982e16135d",
   "metadata": {
    "tags": []
   },
   "outputs": [],
   "source": [
    "ee.Authenticate()\n",
    "ee.Initialize()"
   ]
  },
  {
   "cell_type": "code",
   "execution_count": null,
   "id": "9f6a18a9-b6e5-4e50-ba31-3f816d429c58",
   "metadata": {},
   "outputs": [],
   "source": [
    "region = geojson2FeatureCollection(\"../data/test_region/points_misiones.geojson\")"
   ]
  },
  {
   "cell_type": "code",
   "execution_count": null,
   "id": "68c93c34-b691-41ef-92a5-339c33207473",
   "metadata": {},
   "outputs": [],
   "source": [
    "for i in [0, 3, 4, 7, 10, 13, 16, 18]:\n",
    "    \n",
    "    exporto_modis(region,\n",
    "                rango_anios = range(i, i+3, 1),\n",
    "                file_sufix = str(i)+\"-\"+str(i+2))"
   ]
  },
  {
   "cell_type": "code",
   "execution_count": null,
   "id": "19ef371e-f3be-415e-9e9a-11d5169d91d3",
   "metadata": {
    "tags": []
   },
   "outputs": [],
   "source": [
    "proc_data(path = '../data/test_region/ndvi/*.geojson',\n",
    "              path_output = '../data/test_region/data_final.geojson')"
   ]
  },
  {
   "cell_type": "code",
   "execution_count": null,
   "id": "e0852637-6ca1-4f03-b2c4-c09f32689eb4",
   "metadata": {
    "tags": []
   },
   "outputs": [],
   "source": [
    "predicted_data = run_predictions('../data/test_region/data_final.geojson',\n",
    "               model = \"both\")"
   ]
  },
  {
   "cell_type": "code",
   "execution_count": null,
   "id": "32f9c197-a1db-4558-ae43-764ce5a4474c",
   "metadata": {
    "tags": []
   },
   "outputs": [],
   "source": [
    "predicted_data['XGB_pred'].value_counts()"
   ]
  },
  {
   "cell_type": "code",
   "execution_count": null,
   "id": "41c6fbc4-b30b-43ad-a4a2-14862509a071",
   "metadata": {
    "tags": []
   },
   "outputs": [],
   "source": [
    "predicted_data.to_file(\"../data/test_region/data_final_preds.geojson\")"
   ]
  }
 ],
 "metadata": {
  "kernelspec": {
   "display_name": "factor_deforestacion",
   "language": "python",
   "name": "factor_deforestacion"
  },
  "language_info": {
   "codemirror_mode": {
    "name": "ipython",
    "version": 3
   },
   "file_extension": ".py",
   "mimetype": "text/x-python",
   "name": "python",
   "nbconvert_exporter": "python",
   "pygments_lexer": "ipython3",
   "version": "3.7.16"
  }
 },
 "nbformat": 4,
 "nbformat_minor": 5
}
